{
 "cells": [
  {
   "cell_type": "code",
   "execution_count": 3,
   "metadata": {},
   "outputs": [],
   "source": [
    "from __future__ import print_function\n",
    "from awips.dataaccess import DataAccessLayer\n",
    "import matplotlib.pyplot as plt\n",
    "import numpy as np\n",
    "from shapely.geometry import Polygon\n",
    "from shapely.ops import cascaded_union\n"
   ]
  },
  {
   "cell_type": "code",
   "execution_count": 4,
   "metadata": {},
   "outputs": [],
   "source": [
    "# Server, Data Request Type, and Database Table\n",
    "DataAccessLayer.changeEDEXHost(\"edex-cloud.unidata.ucar.edu\")\n",
    "request = DataAccessLayer.newDataRequest('maps')\n",
    "request.addIdentifier('table', 'mapdata.county')"
   ]
  },
  {
   "cell_type": "code",
   "execution_count": 6,
   "metadata": {},
   "outputs": [
    {
     "ename": "ThriftRequestException",
     "evalue": "b'com.raytheon.uf.common.dataaccess.exception.UnsupportedOutputTypeException' exception thrown: b'topo does not support geometry data'\n\tat com.raytheon.uf.common.dataaccess.impl.AbstractDataFactory.getGeometryData(AbstractDataFactory.java:250)\n\tat com.raytheon.uf.common.dataaccess.DataAccessLayer.getGeometryData(DataAccessLayer.java:160)\n\tat com.raytheon.uf.edex.dataaccess.handler.GetGeometryDataHandler.handleRequest(GetGeometryDataHandler.java:70)\n\tat com.raytheon.uf.edex.dataaccess.handler.GetGeometryDataHandler.handleRequest(GetGeometryDataHandler.java:1)\n\tat com.raytheon.uf.edex.requestsrv.RequestServiceExecutor.execute(RequestServiceExecutor.java:155)\n\tat com.raytheon.uf.edex.requestsrv.serialization.SerializingStreamExecutor.execute(SerializingStreamExecutor.java:107)\n\tat com.raytheon.uf.edex.requestsrv.serialization.ByteLimitingStreamExecutor.execute(ByteLimitingStreamExecutor.java:76)\n\tat com.raytheon.uf.edex.requestsrv.http.HttpRequestServiceExecutor.execute(HttpRequestServiceExecutor.java:102)\n\tat sun.reflect.GeneratedMethodAccessor135.invoke()\n\tat sun.reflect.DelegatingMethodAccessorImpl.invoke(DelegatingMethodAccessorImpl.java:43)\n\tat java.lang.reflect.Method.invoke(Method.java:498)\n\tat org.apache.camel.component.bean.MethodInfo.invoke(MethodInfo.java:458)\n\tat org.apache.camel.component.bean.MethodInfo$1.doProceed(MethodInfo.java:289)\n\tat org.apache.camel.component.bean.MethodInfo$1.proceed(MethodInfo.java:262)\n\tat org.apache.camel.component.bean.BeanProcessor.process(BeanProcessor.java:178)\n\tat org.apache.camel.component.bean.BeanProducer.process(BeanProducer.java:41)\n\tat org.apache.camel.processor.SendProcessor.process(SendProcessor.java:145)\n\tat org.apache.camel.util.AsyncProcessorHelper.process(AsyncProcessorHelper.java:109)\n\tat org.apache.camel.processor.SendProcessor.process(SendProcessor.java:116)\n\tat com.raytheon.uf.edex.esb.camel.MessageProducer$2.process(MessageProducer.java:439)\n\tat org.apache.camel.processor.DelegateAsyncProcessor.process(DelegateAsyncProcessor.java:110)\n\tat org.apache.camel.processor.RedeliveryErrorHandler.process(RedeliveryErrorHandler.java:542)\n\tat org.apache.camel.processor.CamelInternalProcessor.process(CamelInternalProcessor.java:197)\n\tat org.apache.camel.processor.Pipeline.process(Pipeline.java:120)\n\tat org.apache.camel.processor.Pipeline.process(Pipeline.java:83)\n\tat org.apache.camel.processor.CamelInternalProcessor.process(CamelInternalProcessor.java:197)\n\tat org.apache.camel.component.jetty.CamelContinuationServlet.doService(CamelContinuationServlet.java:191)\n\tat org.apache.camel.http.common.CamelServlet.service(CamelServlet.java:74)\n\tat javax.servlet.http.HttpServlet.service(HttpServlet.java:790)\n\tat org.eclipse.jetty.servlet.ServletHolder.handle(ServletHolder.java:812)\n\tat org.eclipse.jetty.servlet.ServletHandler.doHandle(ServletHandler.java:587)\n\tat org.eclipse.jetty.server.handler.ContextHandler.doHandle(ContextHandler.java:1127)\n\tat org.eclipse.jetty.servlet.ServletHandler.doScope(ServletHandler.java:515)\n\tat org.eclipse.jetty.server.handler.ContextHandler.doScope(ContextHandler.java:1061)\n\tat org.eclipse.jetty.server.handler.ScopedHandler.handle(ScopedHandler.java:141)\n\tat org.eclipse.jetty.server.handler.HandlerWrapper.handle(HandlerWrapper.java:97)\n\tat org.eclipse.jetty.server.Server.handle(Server.java:499)\n\tat org.eclipse.jetty.server.HttpChannel.handle(HttpChannel.java:311)\n\tat org.eclipse.jetty.server.HttpConnection.onFillable(HttpConnection.java:257)\n\tat org.eclipse.jetty.io.AbstractConnection$2.run(AbstractConnection.java:544)\n\tat org.eclipse.jetty.util.thread.QueuedThreadPool.runJob(QueuedThreadPool.java:635)\n\tat org.eclipse.jetty.util.thread.QueuedThreadPool$3.run(QueuedThreadPool.java:555)\n\tat java.lang.Thread.run(Thread.java:745)\n",
     "output_type": "error",
     "traceback": [
      "\u001b[0;31m---------------------------------------------------------------------------\u001b[0m",
      "\u001b[0;31mThriftRequestException\u001b[0m                    Traceback (most recent call last)",
      "\u001b[0;32m<ipython-input-6-3a3a813e11fc>\u001b[0m in \u001b[0;36m<module>\u001b[0;34m\u001b[0m\n\u001b[1;32m     13\u001b[0m \u001b[0;34m\u001b[0m\u001b[0m\n\u001b[1;32m     14\u001b[0m \u001b[0;31m# Get response and create dict of county geometries\u001b[0m\u001b[0;34m\u001b[0m\u001b[0;34m\u001b[0m\u001b[0;34m\u001b[0m\u001b[0m\n\u001b[0;32m---> 15\u001b[0;31m \u001b[0mresponse\u001b[0m \u001b[0;34m=\u001b[0m \u001b[0mDataAccessLayer\u001b[0m\u001b[0;34m.\u001b[0m\u001b[0mgetGeometryData\u001b[0m\u001b[0;34m(\u001b[0m\u001b[0mrequest\u001b[0m\u001b[0;34m,\u001b[0m \u001b[0;34m[\u001b[0m\u001b[0;34m]\u001b[0m\u001b[0;34m)\u001b[0m\u001b[0;34m\u001b[0m\u001b[0;34m\u001b[0m\u001b[0m\n\u001b[0m\u001b[1;32m     16\u001b[0m \u001b[0mcounties\u001b[0m \u001b[0;34m=\u001b[0m \u001b[0mnp\u001b[0m\u001b[0;34m.\u001b[0m\u001b[0marray\u001b[0m\u001b[0;34m(\u001b[0m\u001b[0;34m[\u001b[0m\u001b[0;34m]\u001b[0m\u001b[0;34m)\u001b[0m\u001b[0;34m\u001b[0m\u001b[0;34m\u001b[0m\u001b[0m\n\u001b[1;32m     17\u001b[0m \u001b[0;32mfor\u001b[0m \u001b[0mob\u001b[0m \u001b[0;32min\u001b[0m \u001b[0mresponse\u001b[0m\u001b[0;34m:\u001b[0m\u001b[0;34m\u001b[0m\u001b[0;34m\u001b[0m\u001b[0m\n",
      "\u001b[0;32m~/opt/anaconda3/lib/python3.7/site-packages/awips/dataaccess/DataAccessLayer.py\u001b[0m in \u001b[0;36mgetGeometryData\u001b[0;34m(request, times)\u001b[0m\n\u001b[1;32m    229\u001b[0m        \u001b[0ma\u001b[0m \u001b[0mlist\u001b[0m \u001b[0mof\u001b[0m \u001b[0mIGeometryData\u001b[0m\u001b[0;34m\u001b[0m\u001b[0;34m\u001b[0m\u001b[0m\n\u001b[1;32m    230\u001b[0m     \"\"\"\n\u001b[0;32m--> 231\u001b[0;31m     \u001b[0;32mreturn\u001b[0m \u001b[0mrouter\u001b[0m\u001b[0;34m.\u001b[0m\u001b[0mgetGeometryData\u001b[0m\u001b[0;34m(\u001b[0m\u001b[0mrequest\u001b[0m\u001b[0;34m,\u001b[0m \u001b[0mtimes\u001b[0m\u001b[0;34m)\u001b[0m\u001b[0;34m\u001b[0m\u001b[0;34m\u001b[0m\u001b[0m\n\u001b[0m\u001b[1;32m    232\u001b[0m \u001b[0;34m\u001b[0m\u001b[0m\n\u001b[1;32m    233\u001b[0m \u001b[0;34m\u001b[0m\u001b[0m\n",
      "\u001b[0;32m~/opt/anaconda3/lib/python3.7/site-packages/awips/dataaccess/ThriftClientRouter.py\u001b[0m in \u001b[0;36mgetGeometryData\u001b[0;34m(self, request, times)\u001b[0m\n\u001b[1;32m    149\u001b[0m         \u001b[0;32mexcept\u001b[0m \u001b[0mTypeError\u001b[0m\u001b[0;34m:\u001b[0m\u001b[0;34m\u001b[0m\u001b[0;34m\u001b[0m\u001b[0m\n\u001b[1;32m    150\u001b[0m             \u001b[0mgeoDataRequest\u001b[0m\u001b[0;34m.\u001b[0m\u001b[0msetRequestedPeriod\u001b[0m\u001b[0;34m(\u001b[0m\u001b[0mtimes\u001b[0m\u001b[0;34m)\u001b[0m\u001b[0;34m\u001b[0m\u001b[0;34m\u001b[0m\u001b[0m\n\u001b[0;32m--> 151\u001b[0;31m         \u001b[0mresponse\u001b[0m \u001b[0;34m=\u001b[0m \u001b[0mself\u001b[0m\u001b[0;34m.\u001b[0m\u001b[0m_client\u001b[0m\u001b[0;34m.\u001b[0m\u001b[0msendRequest\u001b[0m\u001b[0;34m(\u001b[0m\u001b[0mgeoDataRequest\u001b[0m\u001b[0;34m)\u001b[0m\u001b[0;34m\u001b[0m\u001b[0;34m\u001b[0m\u001b[0m\n\u001b[0m\u001b[1;32m    152\u001b[0m         \u001b[0mgeometries\u001b[0m \u001b[0;34m=\u001b[0m \u001b[0;34m[\u001b[0m\u001b[0;34m]\u001b[0m\u001b[0;34m\u001b[0m\u001b[0;34m\u001b[0m\u001b[0m\n\u001b[1;32m    153\u001b[0m         \u001b[0;32mfor\u001b[0m \u001b[0mwkb\u001b[0m \u001b[0;32min\u001b[0m \u001b[0mresponse\u001b[0m\u001b[0;34m.\u001b[0m\u001b[0mgetGeometryWKBs\u001b[0m\u001b[0;34m(\u001b[0m\u001b[0;34m)\u001b[0m\u001b[0;34m:\u001b[0m\u001b[0;34m\u001b[0m\u001b[0;34m\u001b[0m\u001b[0m\n",
      "\u001b[0;32m~/opt/anaconda3/lib/python3.7/site-packages/awips/ThriftClient.py\u001b[0m in \u001b[0;36msendRequest\u001b[0;34m(self, request, uri)\u001b[0m\n\u001b[1;32m     66\u001b[0m         \u001b[0;32mtry\u001b[0m\u001b[0;34m:\u001b[0m\u001b[0;34m\u001b[0m\u001b[0;34m\u001b[0m\u001b[0m\n\u001b[1;32m     67\u001b[0m             \u001b[0mforceError\u001b[0m \u001b[0;34m=\u001b[0m \u001b[0mrval\u001b[0m\u001b[0;34m.\u001b[0m\u001b[0mgetException\u001b[0m\u001b[0;34m(\u001b[0m\u001b[0;34m)\u001b[0m\u001b[0;34m\u001b[0m\u001b[0;34m\u001b[0m\u001b[0m\n\u001b[0;32m---> 68\u001b[0;31m             \u001b[0;32mraise\u001b[0m \u001b[0mThriftRequestException\u001b[0m\u001b[0;34m(\u001b[0m\u001b[0mforceError\u001b[0m\u001b[0;34m)\u001b[0m\u001b[0;34m\u001b[0m\u001b[0;34m\u001b[0m\u001b[0m\n\u001b[0m\u001b[1;32m     69\u001b[0m         \u001b[0;32mexcept\u001b[0m \u001b[0mAttributeError\u001b[0m\u001b[0;34m:\u001b[0m\u001b[0;34m\u001b[0m\u001b[0;34m\u001b[0m\u001b[0m\n\u001b[1;32m     70\u001b[0m             \u001b[0;32mpass\u001b[0m\u001b[0;34m\u001b[0m\u001b[0;34m\u001b[0m\u001b[0m\n",
      "\u001b[0;31mThriftRequestException\u001b[0m: b'com.raytheon.uf.common.dataaccess.exception.UnsupportedOutputTypeException' exception thrown: b'topo does not support geometry data'\n\tat com.raytheon.uf.common.dataaccess.impl.AbstractDataFactory.getGeometryData(AbstractDataFactory.java:250)\n\tat com.raytheon.uf.common.dataaccess.DataAccessLayer.getGeometryData(DataAccessLayer.java:160)\n\tat com.raytheon.uf.edex.dataaccess.handler.GetGeometryDataHandler.handleRequest(GetGeometryDataHandler.java:70)\n\tat com.raytheon.uf.edex.dataaccess.handler.GetGeometryDataHandler.handleRequest(GetGeometryDataHandler.java:1)\n\tat com.raytheon.uf.edex.requestsrv.RequestServiceExecutor.execute(RequestServiceExecutor.java:155)\n\tat com.raytheon.uf.edex.requestsrv.serialization.SerializingStreamExecutor.execute(SerializingStreamExecutor.java:107)\n\tat com.raytheon.uf.edex.requestsrv.serialization.ByteLimitingStreamExecutor.execute(ByteLimitingStreamExecutor.java:76)\n\tat com.raytheon.uf.edex.requestsrv.http.HttpRequestServiceExecutor.execute(HttpRequestServiceExecutor.java:102)\n\tat sun.reflect.GeneratedMethodAccessor135.invoke()\n\tat sun.reflect.DelegatingMethodAccessorImpl.invoke(DelegatingMethodAccessorImpl.java:43)\n\tat java.lang.reflect.Method.invoke(Method.java:498)\n\tat org.apache.camel.component.bean.MethodInfo.invoke(MethodInfo.java:458)\n\tat org.apache.camel.component.bean.MethodInfo$1.doProceed(MethodInfo.java:289)\n\tat org.apache.camel.component.bean.MethodInfo$1.proceed(MethodInfo.java:262)\n\tat org.apache.camel.component.bean.BeanProcessor.process(BeanProcessor.java:178)\n\tat org.apache.camel.component.bean.BeanProducer.process(BeanProducer.java:41)\n\tat org.apache.camel.processor.SendProcessor.process(SendProcessor.java:145)\n\tat org.apache.camel.util.AsyncProcessorHelper.process(AsyncProcessorHelper.java:109)\n\tat org.apache.camel.processor.SendProcessor.process(SendProcessor.java:116)\n\tat com.raytheon.uf.edex.esb.camel.MessageProducer$2.process(MessageProducer.java:439)\n\tat org.apache.camel.processor.DelegateAsyncProcessor.process(DelegateAsyncProcessor.java:110)\n\tat org.apache.camel.processor.RedeliveryErrorHandler.process(RedeliveryErrorHandler.java:542)\n\tat org.apache.camel.processor.CamelInternalProcessor.process(CamelInternalProcessor.java:197)\n\tat org.apache.camel.processor.Pipeline.process(Pipeline.java:120)\n\tat org.apache.camel.processor.Pipeline.process(Pipeline.java:83)\n\tat org.apache.camel.processor.CamelInternalProcessor.process(CamelInternalProcessor.java:197)\n\tat org.apache.camel.component.jetty.CamelContinuationServlet.doService(CamelContinuationServlet.java:191)\n\tat org.apache.camel.http.common.CamelServlet.service(CamelServlet.java:74)\n\tat javax.servlet.http.HttpServlet.service(HttpServlet.java:790)\n\tat org.eclipse.jetty.servlet.ServletHolder.handle(ServletHolder.java:812)\n\tat org.eclipse.jetty.servlet.ServletHandler.doHandle(ServletHandler.java:587)\n\tat org.eclipse.jetty.server.handler.ContextHandler.doHandle(ContextHandler.java:1127)\n\tat org.eclipse.jetty.servlet.ServletHandler.doScope(ServletHandler.java:515)\n\tat org.eclipse.jetty.server.handler.ContextHandler.doScope(ContextHandler.java:1061)\n\tat org.eclipse.jetty.server.handler.ScopedHandler.handle(ScopedHandler.java:141)\n\tat org.eclipse.jetty.server.handler.HandlerWrapper.handle(HandlerWrapper.java:97)\n\tat org.eclipse.jetty.server.Server.handle(Server.java:499)\n\tat org.eclipse.jetty.server.HttpChannel.handle(HttpChannel.java:311)\n\tat org.eclipse.jetty.server.HttpConnection.onFillable(HttpConnection.java:257)\n\tat org.eclipse.jetty.io.AbstractConnection$2.run(AbstractConnection.java:544)\n\tat org.eclipse.jetty.util.thread.QueuedThreadPool.runJob(QueuedThreadPool.java:635)\n\tat org.eclipse.jetty.util.thread.QueuedThreadPool$3.run(QueuedThreadPool.java:555)\n\tat java.lang.Thread.run(Thread.java:745)\n"
     ]
    }
   ],
   "source": [
    "# Define a WFO ID for location\n",
    "# tie this ID to the mapdata.county column \"cwa\" for filtering\n",
    "request.setLocationNames('BOU')\n",
    "request.addIdentifier('cwa', 'BOU')\n",
    "\n",
    "# enable location filtering (inLocation)\n",
    "# locationField is tied to the above cwa definition (BOU)\n",
    "request.addIdentifier('geomField', 'the_geom')\n",
    "request.addIdentifier('inLocation', 'true')\n",
    "request.addIdentifier('locationField', 'cwa')\n",
    "\n",
    "# This is essentially the same as \"'\"select count(*) from mapdata.cwa where cwa='BOU';\" (=1)\n",
    "\n",
    "# Get response and create dict of county geometries\n",
    "response = DataAccessLayer.getGeometryData(request, [])\n",
    "counties = np.array([])\n",
    "for ob in response:\n",
    "    counties = np.append(counties,ob.getGeometry())\n",
    "print(\"Using \" + str(len(counties)) + \" county MultiPolygons\")\n",
    "\n",
    "\n",
    "%matplotlib inline\n",
    "# All WFO counties merged to a single Polygon\n",
    "merged_counties = cascaded_union(counties)\n",
    "envelope = merged_counties.buffer(2)\n",
    "boundaries=[merged_counties]"
   ]
  },
  {
   "cell_type": "code",
   "execution_count": 5,
   "metadata": {},
   "outputs": [
    {
     "ename": "NameError",
     "evalue": "name 'envelope' is not defined",
     "output_type": "error",
     "traceback": [
      "\u001b[0;31m---------------------------------------------------------------------------\u001b[0m",
      "\u001b[0;31mNameError\u001b[0m                                 Traceback (most recent call last)",
      "\u001b[0;32m<ipython-input-5-075a3287405c>\u001b[0m in \u001b[0;36m<module>\u001b[0;34m\u001b[0m\n\u001b[1;32m      2\u001b[0m \u001b[0mrequest\u001b[0m\u001b[0;34m.\u001b[0m\u001b[0maddIdentifier\u001b[0m\u001b[0;34m(\u001b[0m\u001b[0;34m\"group\"\u001b[0m\u001b[0;34m,\u001b[0m \u001b[0;34m\"/\"\u001b[0m\u001b[0;34m)\u001b[0m\u001b[0;34m\u001b[0m\u001b[0;34m\u001b[0m\u001b[0m\n\u001b[1;32m      3\u001b[0m \u001b[0mrequest\u001b[0m\u001b[0;34m.\u001b[0m\u001b[0maddIdentifier\u001b[0m\u001b[0;34m(\u001b[0m\u001b[0;34m\"dataset\"\u001b[0m\u001b[0;34m,\u001b[0m \u001b[0;34m\"full\"\u001b[0m\u001b[0;34m)\u001b[0m\u001b[0;34m\u001b[0m\u001b[0;34m\u001b[0m\u001b[0m\n\u001b[0;32m----> 4\u001b[0;31m \u001b[0mrequest\u001b[0m\u001b[0;34m.\u001b[0m\u001b[0msetEnvelope\u001b[0m\u001b[0;34m(\u001b[0m\u001b[0menvelope\u001b[0m\u001b[0;34m)\u001b[0m\u001b[0;34m\u001b[0m\u001b[0;34m\u001b[0m\u001b[0m\n\u001b[0m\u001b[1;32m      5\u001b[0m \u001b[0mgridData\u001b[0m \u001b[0;34m=\u001b[0m \u001b[0mDataAccessLayer\u001b[0m\u001b[0;34m.\u001b[0m\u001b[0mgetGridData\u001b[0m\u001b[0;34m(\u001b[0m\u001b[0mrequest\u001b[0m\u001b[0;34m)\u001b[0m\u001b[0;34m\u001b[0m\u001b[0;34m\u001b[0m\u001b[0m\n\u001b[1;32m      6\u001b[0m \u001b[0mprint\u001b[0m\u001b[0;34m(\u001b[0m\u001b[0mgridData\u001b[0m\u001b[0;34m)\u001b[0m\u001b[0;34m\u001b[0m\u001b[0;34m\u001b[0m\u001b[0m\n",
      "\u001b[0;31mNameError\u001b[0m: name 'envelope' is not defined"
     ]
    }
   ],
   "source": [
    "request = DataAccessLayer.newDataRequest(\"topo\")\n",
    "request.addIdentifier(\"group\", \"/\")\n",
    "request.addIdentifier(\"dataset\", \"full\")\n",
    "request.setEnvelope(envelope)\n",
    "gridData = DataAccessLayer.getGridData(request)\n",
    "print(gridData)\n",
    "print(\"Number of grid records: \" + str(len(gridData)))\n",
    "print(\"Sample grid data shape:\\n\" + str(gridData[0].getRawData().shape) + \"\\n\")\n",
    "print(\"Sample grid data:\\n\" + str(gridData[0].getRawData()) + \"\\n\")"
   ]
  },
  {
   "cell_type": "code",
   "execution_count": null,
   "metadata": {},
   "outputs": [],
   "source": [
    "from cartopy.mpl.gridliner import LONGITUDE_FORMATTER, LATITUDE_FORMATTER\n",
    "from cartopy.feature import ShapelyFeature,NaturalEarthFeature\n",
    "import cartopy.crs as ccrs"
   ]
  },
  {
   "cell_type": "code",
   "execution_count": null,
   "metadata": {},
   "outputs": [],
   "source": []
  },
  {
   "cell_type": "code",
   "execution_count": null,
   "metadata": {},
   "outputs": [],
   "source": []
  },
  {
   "cell_type": "code",
   "execution_count": null,
   "metadata": {},
   "outputs": [],
   "source": []
  },
  {
   "cell_type": "code",
   "execution_count": 2,
   "metadata": {},
   "outputs": [],
   "source": []
  },
  {
   "cell_type": "code",
   "execution_count": null,
   "metadata": {},
   "outputs": [],
   "source": []
  }
 ],
 "metadata": {
  "kernelspec": {
   "display_name": "Python 3",
   "language": "python",
   "name": "python3"
  },
  "language_info": {
   "codemirror_mode": {
    "name": "ipython",
    "version": 3
   },
   "file_extension": ".py",
   "mimetype": "text/x-python",
   "name": "python",
   "nbconvert_exporter": "python",
   "pygments_lexer": "ipython3",
   "version": "3.7.6"
  }
 },
 "nbformat": 4,
 "nbformat_minor": 4
}

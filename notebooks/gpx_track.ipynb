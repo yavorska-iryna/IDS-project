{
 "cells": [
  {
   "cell_type": "code",
   "execution_count": null,
   "metadata": {},
   "outputs": [],
   "source": [
    "import gpxpy\n",
    "import matplotlib.pyplot as plt\n",
    "import datetime\n",
    "from geopy import distance\n",
    "from math import sqrt, floor\n",
    "import numpy as np\n",
    "import pandas as pd\n",
    "import chart_studio.plotly as py\n",
    "import plotly.graph_objs as go\n",
    "import haversine\n",
    "\n"
   ]
  },
  {
   "cell_type": "code",
   "execution_count": null,
   "metadata": {},
   "outputs": [],
   "source": [
    "gpx_file = open('*.gpx', 'r')\n",
    "gpx = gpxpy.parse(gpx_file)\n",
    "print(gpx)"
   ]
  },
  {
   "cell_type": "code",
   "execution_count": null,
   "metadata": {},
   "outputs": [],
   "source": [
    "# this is for recorded tracks\n",
    "print(len(gpx.tracks))\n",
    "print(len(gpx.tracks[0].segments))\n",
    "print(len(gpx.tracks[0].segments[0].points))\n",
    "\n",
    "data = gpx.tracks[0].segments[0].points\n",
    "start = data[0]\n",
    "finish = data[-1]\n",
    "print(start)\n",
    "print(finish)\n",
    "df = pd.DataFrame(columns=['lon', 'lat', 'alt', 'time'])\n",
    "for point in data:\n",
    "    df = df.append({'lon': point.longitude, 'lat' : point.latitude, 'alt' : point.elevation, 'time' : point.time}, ignore_index=True)\n",
    "df.describe()\n"
   ]
  },
  {
   "cell_type": "code",
   "execution_count": null,
   "metadata": {},
   "outputs": [],
   "source": [
    "# load all gpx files \n",
    "dirs = '~/IDS-project/data/export_21762824/activities'\n",
    "gpx_files = glob.glob('{}/{}'.format(dirs, ))\n",
    "if not gpx_files:\n",
    "        exit('ERROR No GPX files in {}'.format(args.dir))\n",
    "\n",
    "    data = []\n",
    "\n",
    "    for gpx_file in gpx_files:\n",
    "        print('Reading {}'.format(gpx_file))\n",
    "\n",
    "        with open(gpx_file, 'r') as file:\n",
    "            for line in file:\n",
    "                if '<trkpt' in line:\n",
    "                    r = re.findall('[-]?[0-9]*[.]?[0-9]+', line)\n",
    "\n",
    "                    data.append([float(r[0]), float(r[1])])\n",
    "\n",
    "    print('Loaded {} trackpoints'.format(len(heatmap_data)))"
   ]
  }
 ],
 "metadata": {
  "kernelspec": {
   "display_name": "Python 3",
   "language": "python",
   "name": "python3"
  },
  "language_info": {
   "codemirror_mode": {
    "name": "ipython",
    "version": 3
   },
   "file_extension": ".py",
   "mimetype": "text/x-python",
   "name": "python",
   "nbconvert_exporter": "python",
   "pygments_lexer": "ipython3",
   "version": "3.7.6"
  }
 },
 "nbformat": 4,
 "nbformat_minor": 4
}

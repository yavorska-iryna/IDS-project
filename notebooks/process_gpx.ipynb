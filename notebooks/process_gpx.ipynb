{
 "cells": [
  {
   "cell_type": "code",
   "execution_count": 1,
   "metadata": {},
   "outputs": [],
   "source": [
    "import gpxpy\n",
    "import matplotlib.pyplot as plt\n",
    "import datetime\n",
    "from geopy import distance\n",
    "from math import sqrt, floor\n",
    "import numpy as np\n",
    "import pandas as pd\n",
    "import chart_studio.plotly as py\n",
    "import plotly.graph_objs as go\n",
    "import haversine\n",
    "\n",
    "\n"
   ]
  },
  {
   "cell_type": "code",
   "execution_count": 5,
   "metadata": {},
   "outputs": [
    {
     "name": "stdout",
     "output_type": "stream",
     "text": [
      "GPX(routes=[GPXRoute(name='untitled', points=[...]))])\n"
     ]
    },
    {
     "data": {
      "text/plain": [
       "GPX(routes=[GPXRoute(name='untitled', points=[...]))])"
      ]
     },
     "execution_count": 5,
     "metadata": {},
     "output_type": "execute_result"
    }
   ],
   "source": [
    "gpx_file = open('untitled.gpx', 'r')\n",
    "gpx = gpxpy.parse(gpx_file)\n",
    "print(gpx)"
   ]
  },
  {
   "cell_type": "code",
   "execution_count": null,
   "metadata": {},
   "outputs": [],
   "source": []
  },
  {
   "cell_type": "code",
   "execution_count": 25,
   "metadata": {},
   "outputs": [
    {
     "name": "stdout",
     "output_type": "stream",
     "text": [
      "1\n",
      "844\n",
      "[GPXRoutePoint(47.545772, -122.071686, elevation=41.0070323200054), GPXRoutePoint(47.545909, -122.072449, elevation=43.32081264000733), GPXRoutePoint(47.545864, -122.073533, elevation=53.21279999993021), GPXRoutePoint(47.546054, -122.073815, elevation=53.01868959998508), GPXRoutePoint(47.546081, -122.07425, elevation=60.350400000186255)]\n"
     ]
    }
   ],
   "source": [
    "# this is for made routes\n",
    "print(len(gpx.routes))\n",
    "print(len(gpx.routes[0].points))\n",
    "print(gpx.routes[0].points[:5])"
   ]
  },
  {
   "cell_type": "code",
   "execution_count": 33,
   "metadata": {},
   "outputs": [
    {
     "data": {
      "text/html": [
       "<div>\n",
       "<style scoped>\n",
       "    .dataframe tbody tr th:only-of-type {\n",
       "        vertical-align: middle;\n",
       "    }\n",
       "\n",
       "    .dataframe tbody tr th {\n",
       "        vertical-align: top;\n",
       "    }\n",
       "\n",
       "    .dataframe thead th {\n",
       "        text-align: right;\n",
       "    }\n",
       "</style>\n",
       "<table border=\"1\" class=\"dataframe\">\n",
       "  <thead>\n",
       "    <tr style=\"text-align: right;\">\n",
       "      <th></th>\n",
       "      <th>lon</th>\n",
       "      <th>lat</th>\n",
       "      <th>alt</th>\n",
       "    </tr>\n",
       "  </thead>\n",
       "  <tbody>\n",
       "    <tr>\n",
       "      <th>count</th>\n",
       "      <td>844.000000</td>\n",
       "      <td>844.000000</td>\n",
       "      <td>844.000000</td>\n",
       "    </tr>\n",
       "    <tr>\n",
       "      <th>mean</th>\n",
       "      <td>-122.101259</td>\n",
       "      <td>47.534674</td>\n",
       "      <td>328.150314</td>\n",
       "    </tr>\n",
       "    <tr>\n",
       "      <th>std</th>\n",
       "      <td>0.015821</td>\n",
       "      <td>0.006120</td>\n",
       "      <td>90.491421</td>\n",
       "    </tr>\n",
       "    <tr>\n",
       "      <th>min</th>\n",
       "      <td>-122.125901</td>\n",
       "      <td>47.523548</td>\n",
       "      <td>41.007032</td>\n",
       "    </tr>\n",
       "    <tr>\n",
       "      <th>25%</th>\n",
       "      <td>-122.114157</td>\n",
       "      <td>47.530322</td>\n",
       "      <td>266.219143</td>\n",
       "    </tr>\n",
       "    <tr>\n",
       "      <th>50%</th>\n",
       "      <td>-122.103486</td>\n",
       "      <td>47.535362</td>\n",
       "      <td>345.642000</td>\n",
       "    </tr>\n",
       "    <tr>\n",
       "      <th>75%</th>\n",
       "      <td>-122.088050</td>\n",
       "      <td>47.539571</td>\n",
       "      <td>394.109800</td>\n",
       "    </tr>\n",
       "    <tr>\n",
       "      <th>max</th>\n",
       "      <td>-122.070260</td>\n",
       "      <td>47.546081</td>\n",
       "      <td>461.986400</td>\n",
       "    </tr>\n",
       "  </tbody>\n",
       "</table>\n",
       "</div>"
      ],
      "text/plain": [
       "              lon         lat         alt\n",
       "count  844.000000  844.000000  844.000000\n",
       "mean  -122.101259   47.534674  328.150314\n",
       "std      0.015821    0.006120   90.491421\n",
       "min   -122.125901   47.523548   41.007032\n",
       "25%   -122.114157   47.530322  266.219143\n",
       "50%   -122.103486   47.535362  345.642000\n",
       "75%   -122.088050   47.539571  394.109800\n",
       "max   -122.070260   47.546081  461.986400"
      ]
     },
     "execution_count": 33,
     "metadata": {},
     "output_type": "execute_result"
    }
   ],
   "source": [
    "df_route = pd.DataFrame(columns=['lon', 'lat', 'alt'])\n",
    "for point in gpx.routes[0].points:\n",
    "    df_route = df_route.append({'lon': point.longitude, 'lat' : point.latitude, 'alt' : point.elevation}, ignore_index=True)\n",
    "df_route.describe()"
   ]
  },
  {
   "cell_type": "code",
   "execution_count": null,
   "metadata": {},
   "outputs": [],
   "source": [
    "# now lets try to get discriptions of those points from open street map\n",
    "import requests\n",
    "import json\n",
    "import overpy\n",
    "\n",
    "r =requests.get('https://nominatim.openstreetmap.org/reverse?format=xml&lat={lat}lon={lon}zoom={zoom}adressdetails=1'.format(lat = df_route.lat[0],\n",
    "                                                                        lon = df_route.lon[0],\n",
    "                                                                        zoom = 16))\n"
   ]
  },
  {
   "cell_type": "code",
   "execution_count": 47,
   "metadata": {},
   "outputs": [
    {
     "data": {
      "text/plain": [
       "{'Server': 'nginx', 'Date': 'Wed, 10 Jun 2020 21:33:01 GMT', 'Content-Type': 'text/xml; charset=utf-8', 'Transfer-Encoding': 'chunked', 'Connection': 'keep-alive', 'Keep-Alive': 'timeout=20', 'Access-Control-Allow-Origin': '*', 'Access-Control-Allow-Methods': 'OPTIONS,GET'}"
      ]
     },
     "execution_count": 47,
     "metadata": {},
     "output_type": "execute_result"
    }
   ],
   "source": [
    "r.headers"
   ]
  },
  {
   "cell_type": "code",
   "execution_count": null,
   "metadata": {},
   "outputs": [],
   "source": [
    "# this is for recorded tracks\n",
    "print(len(gpx.tracks))\n",
    "print(len(gpx.tracks[0].segments))\n",
    "print(len(gpx.tracks[0].segments[0].points))\n",
    "\n",
    "data = gpx.tracks[0].segments[0].points\n",
    "start = data[0]\n",
    "finish = data[-1]\n",
    "print(start)\n",
    "print(finish)\n",
    "df = pd.DataFrame(columns=['lon', 'lat', 'alt', 'time'])\n",
    "for point in data:\n",
    "    df = df.append({'lon': point.longitude, 'lat' : point.latitude, 'alt' : point.elevation, 'time' : point.time}, ignore_index=True)\n",
    "df.describe()\n"
   ]
  },
  {
   "cell_type": "code",
   "execution_count": null,
   "metadata": {},
   "outputs": [],
   "source": [
    "# load all gpx files \n",
    "dirs = '~/IDS-project/data/export_21762824/activities'\n",
    "gpx_files = glob.glob('{}/{}'.format(dirs, ))\n",
    "if not gpx_files:\n",
    "        exit('ERROR No GPX files in {}'.format(args.dir))\n",
    "\n",
    "    data = []\n",
    "\n",
    "    for gpx_file in gpx_files:\n",
    "        print('Reading {}'.format(gpx_file))\n",
    "\n",
    "        with open(gpx_file, 'r') as file:\n",
    "            for line in file:\n",
    "                if '<trkpt' in line:\n",
    "                    r = re.findall('[-]?[0-9]*[.]?[0-9]+', line)\n",
    "\n",
    "                    data.append([float(r[0]), float(r[1])])\n",
    "\n",
    "    print('Loaded {} trackpoints'.format(len(heatmap_data)))"
   ]
  },
  {
   "cell_type": "code",
   "execution_count": null,
   "metadata": {},
   "outputs": [],
   "source": []
  }
 ],
 "metadata": {
  "kernelspec": {
   "display_name": "Python 3",
   "language": "python",
   "name": "python3"
  },
  "language_info": {
   "codemirror_mode": {
    "name": "ipython",
    "version": 3
   },
   "file_extension": ".py",
   "mimetype": "text/x-python",
   "name": "python",
   "nbconvert_exporter": "python",
   "pygments_lexer": "ipython3",
   "version": "3.7.6"
  }
 },
 "nbformat": 4,
 "nbformat_minor": 4
}

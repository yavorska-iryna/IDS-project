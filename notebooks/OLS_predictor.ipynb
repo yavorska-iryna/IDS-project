{
 "cells": [
  {
   "cell_type": "code",
   "execution_count": 1,
   "metadata": {},
   "outputs": [],
   "source": [
    "import pandas as pd\n",
    "import numpy as np\n"
   ]
  },
  {
   "cell_type": "code",
   "execution_count": 17,
   "metadata": {},
   "outputs": [
    {
     "data": {
      "text/plain": [
       "array(['black', 'blueBlack', 'blue', 'green', 'dblack', 'greenBlue'],\n",
       "      dtype=object)"
      ]
     },
     "execution_count": 17,
     "metadata": {},
     "output_type": "execute_result"
    }
   ],
   "source": [
    "df = pd.read_csv('training_data.csv')\n",
    "\n",
    "# clean and keep only the data we want\n",
    "data =[]\n",
    "data = df[['id','stars','starVotes','length','ascent','descent', 'high', 'low', \n",
    "          'longitude','latitude', 'difficulty']]\n",
    "data[\"difficulty\"].unique()"
   ]
  },
  {
   "cell_type": "code",
   "execution_count": 18,
   "metadata": {},
   "outputs": [
    {
     "name": "stderr",
     "output_type": "stream",
     "text": [
      "/Users/iryna/opt/anaconda3/lib/python3.7/site-packages/pandas/core/generic.py:6666: SettingWithCopyWarning: \n",
      "A value is trying to be set on a copy of a slice from a DataFrame.\n",
      "Try using .loc[row_indexer,col_indexer] = value instead\n",
      "\n",
      "See the caveats in the documentation: https://pandas.pydata.org/pandas-docs/stable/user_guide/indexing.html#returning-a-view-versus-a-copy\n",
      "  regex=regex,\n"
     ]
    },
    {
     "data": {
      "text/html": [
       "<div>\n",
       "<style scoped>\n",
       "    .dataframe tbody tr th:only-of-type {\n",
       "        vertical-align: middle;\n",
       "    }\n",
       "\n",
       "    .dataframe tbody tr th {\n",
       "        vertical-align: top;\n",
       "    }\n",
       "\n",
       "    .dataframe thead th {\n",
       "        text-align: right;\n",
       "    }\n",
       "</style>\n",
       "<table border=\"1\" class=\"dataframe\">\n",
       "  <thead>\n",
       "    <tr style=\"text-align: right;\">\n",
       "      <th></th>\n",
       "      <th>id</th>\n",
       "      <th>stars</th>\n",
       "      <th>starVotes</th>\n",
       "      <th>length</th>\n",
       "      <th>ascent</th>\n",
       "      <th>descent</th>\n",
       "      <th>high</th>\n",
       "      <th>low</th>\n",
       "      <th>longitude</th>\n",
       "      <th>latitude</th>\n",
       "      <th>difficulty</th>\n",
       "    </tr>\n",
       "  </thead>\n",
       "  <tbody>\n",
       "    <tr>\n",
       "      <th>count</th>\n",
       "      <td>2.824000e+03</td>\n",
       "      <td>2824.000000</td>\n",
       "      <td>2824.000000</td>\n",
       "      <td>2824.000000</td>\n",
       "      <td>2824.000000</td>\n",
       "      <td>2824.000000</td>\n",
       "      <td>2824.000000</td>\n",
       "      <td>2824.000000</td>\n",
       "      <td>2824.000000</td>\n",
       "      <td>2824.000000</td>\n",
       "      <td>2824.000000</td>\n",
       "    </tr>\n",
       "    <tr>\n",
       "      <th>mean</th>\n",
       "      <td>7.038744e+06</td>\n",
       "      <td>4.185942</td>\n",
       "      <td>7.789660</td>\n",
       "      <td>8.164837</td>\n",
       "      <td>1137.209986</td>\n",
       "      <td>-1065.430241</td>\n",
       "      <td>3837.538244</td>\n",
       "      <td>3031.027266</td>\n",
       "      <td>-97.885732</td>\n",
       "      <td>42.528836</td>\n",
       "      <td>3.281870</td>\n",
       "    </tr>\n",
       "    <tr>\n",
       "      <th>std</th>\n",
       "      <td>2.702557e+04</td>\n",
       "      <td>1.146773</td>\n",
       "      <td>19.438806</td>\n",
       "      <td>18.645545</td>\n",
       "      <td>2345.459481</td>\n",
       "      <td>2355.071712</td>\n",
       "      <td>3439.945213</td>\n",
       "      <td>2757.346092</td>\n",
       "      <td>15.356823</td>\n",
       "      <td>4.249339</td>\n",
       "      <td>1.351667</td>\n",
       "    </tr>\n",
       "    <tr>\n",
       "      <th>min</th>\n",
       "      <td>7.000000e+06</td>\n",
       "      <td>0.000000</td>\n",
       "      <td>0.000000</td>\n",
       "      <td>0.000000</td>\n",
       "      <td>0.000000</td>\n",
       "      <td>-54394.000000</td>\n",
       "      <td>0.000000</td>\n",
       "      <td>-280.000000</td>\n",
       "      <td>-121.591800</td>\n",
       "      <td>34.783200</td>\n",
       "      <td>1.000000</td>\n",
       "    </tr>\n",
       "    <tr>\n",
       "      <th>25%</th>\n",
       "      <td>7.016145e+06</td>\n",
       "      <td>4.000000</td>\n",
       "      <td>1.000000</td>\n",
       "      <td>1.800000</td>\n",
       "      <td>111.000000</td>\n",
       "      <td>-1105.500000</td>\n",
       "      <td>978.250000</td>\n",
       "      <td>779.750000</td>\n",
       "      <td>-111.617300</td>\n",
       "      <td>39.059575</td>\n",
       "      <td>3.000000</td>\n",
       "    </tr>\n",
       "    <tr>\n",
       "      <th>50%</th>\n",
       "      <td>7.035008e+06</td>\n",
       "      <td>4.500000</td>\n",
       "      <td>2.000000</td>\n",
       "      <td>4.000000</td>\n",
       "      <td>412.500000</td>\n",
       "      <td>-335.000000</td>\n",
       "      <td>2497.500000</td>\n",
       "      <td>1804.500000</td>\n",
       "      <td>-98.509300</td>\n",
       "      <td>42.551450</td>\n",
       "      <td>3.000000</td>\n",
       "    </tr>\n",
       "    <tr>\n",
       "      <th>75%</th>\n",
       "      <td>7.054825e+06</td>\n",
       "      <td>5.000000</td>\n",
       "      <td>6.000000</td>\n",
       "      <td>8.000000</td>\n",
       "      <td>1311.500000</td>\n",
       "      <td>-90.000000</td>\n",
       "      <td>6348.500000</td>\n",
       "      <td>5046.750000</td>\n",
       "      <td>-84.294600</td>\n",
       "      <td>45.566800</td>\n",
       "      <td>5.000000</td>\n",
       "    </tr>\n",
       "    <tr>\n",
       "      <th>max</th>\n",
       "      <td>7.093274e+06</td>\n",
       "      <td>5.000000</td>\n",
       "      <td>278.000000</td>\n",
       "      <td>308.300000</td>\n",
       "      <td>58094.000000</td>\n",
       "      <td>0.000000</td>\n",
       "      <td>14433.000000</td>\n",
       "      <td>12745.000000</td>\n",
       "      <td>-68.909700</td>\n",
       "      <td>53.954400</td>\n",
       "      <td>6.000000</td>\n",
       "    </tr>\n",
       "  </tbody>\n",
       "</table>\n",
       "</div>"
      ],
      "text/plain": [
       "                 id        stars    starVotes       length        ascent  \\\n",
       "count  2.824000e+03  2824.000000  2824.000000  2824.000000   2824.000000   \n",
       "mean   7.038744e+06     4.185942     7.789660     8.164837   1137.209986   \n",
       "std    2.702557e+04     1.146773    19.438806    18.645545   2345.459481   \n",
       "min    7.000000e+06     0.000000     0.000000     0.000000      0.000000   \n",
       "25%    7.016145e+06     4.000000     1.000000     1.800000    111.000000   \n",
       "50%    7.035008e+06     4.500000     2.000000     4.000000    412.500000   \n",
       "75%    7.054825e+06     5.000000     6.000000     8.000000   1311.500000   \n",
       "max    7.093274e+06     5.000000   278.000000   308.300000  58094.000000   \n",
       "\n",
       "            descent          high           low    longitude     latitude  \\\n",
       "count   2824.000000   2824.000000   2824.000000  2824.000000  2824.000000   \n",
       "mean   -1065.430241   3837.538244   3031.027266   -97.885732    42.528836   \n",
       "std     2355.071712   3439.945213   2757.346092    15.356823     4.249339   \n",
       "min   -54394.000000      0.000000   -280.000000  -121.591800    34.783200   \n",
       "25%    -1105.500000    978.250000    779.750000  -111.617300    39.059575   \n",
       "50%     -335.000000   2497.500000   1804.500000   -98.509300    42.551450   \n",
       "75%      -90.000000   6348.500000   5046.750000   -84.294600    45.566800   \n",
       "max        0.000000  14433.000000  12745.000000   -68.909700    53.954400   \n",
       "\n",
       "        difficulty  \n",
       "count  2824.000000  \n",
       "mean      3.281870  \n",
       "std       1.351667  \n",
       "min       1.000000  \n",
       "25%       3.000000  \n",
       "50%       3.000000  \n",
       "75%       5.000000  \n",
       "max       6.000000  "
      ]
     },
     "execution_count": 18,
     "metadata": {},
     "output_type": "execute_result"
    }
   ],
   "source": [
    "# replace categorical variable 'difficulty' with int\n",
    "mapping = {'green': 1, 'greenBlue': 2, 'blue': 3, 'blueBlack': 4, 'black': 5, 'dblack': 6}\n",
    "data.replace(to_replace = {'difficulty' : mapping}, inplace = True)\n",
    "data.describe()"
   ]
  },
  {
   "cell_type": "code",
   "execution_count": 19,
   "metadata": {},
   "outputs": [
    {
     "data": {
      "text/plain": [
       "array([5, 4, 3, 1, 6, 2])"
      ]
     },
     "execution_count": 19,
     "metadata": {},
     "output_type": "execute_result"
    }
   ],
   "source": [
    "data['difficulty'].unique()"
   ]
  },
  {
   "cell_type": "code",
   "execution_count": 20,
   "metadata": {},
   "outputs": [
    {
     "data": {
      "image/png": "[encoded data removed]",
      "text/plain": [
       "<Figure size 432x288 with 12 Axes>"
      ]
     },
     "metadata": {
      "needs_background": "light"
     },
     "output_type": "display_data"
    }
   ],
   "source": [
    "from matplotlib import pyplot as plt\n",
    "data.hist(bins = 25)\n",
    "#plt.savefig('training_data')\n",
    "plt.show()"
   ]
  },
  {
   "cell_type": "code",
   "execution_count": null,
   "metadata": {},
   "outputs": [],
   "source": []
  },
  {
   "cell_type": "code",
   "execution_count": 21,
   "metadata": {},
   "outputs": [],
   "source": [
    "from sklearn.model_selection import train_test_split\n",
    "from sklearn.linear_model import LinearRegression\n",
    "from sklearn import metrics\n",
    "\n",
    "data_final = data[['length','ascent','descent', 'high', 'low', \n",
    "          'longitude','latitude', 'difficulty']]\n",
    "\n",
    "\n",
    "X = data_final.loc[:, data_final.columns != 'difficulty']\n",
    "y = data_final.loc[:, data_final.columns == 'difficulty']\n",
    "\n",
    "# now, we need to split data into training and test sets\n",
    "X_train, X_test, y_train, y_test = train_test_split(X, y, test_size=0.3, random_state=0)\n",
    "\n"
   ]
  },
  {
   "cell_type": "code",
   "execution_count": 22,
   "metadata": {},
   "outputs": [],
   "source": [
    "from imblearn.over_sampling import SMOTE\n",
    "import statsmodels.api as sm\n",
    "\n",
    "columns = X_train.columns\n",
    "os = SMOTE(random_state=0)\n",
    "os_data_X,os_data_y=os.fit_sample(X_train, y_train)\n",
    "os_data_X = pd.DataFrame(data=os_data_X,columns=columns )\n",
    "os_data_y= pd.DataFrame(data=os_data_y,columns=['difficulty'])\n"
   ]
  },
  {
   "cell_type": "code",
   "execution_count": 23,
   "metadata": {},
   "outputs": [
    {
     "data": {
      "image/png": "[encoded data removed]",
      "text/plain": [
       "<Figure size 432x288 with 1 Axes>"
      ]
     },
     "metadata": {
      "needs_background": "light"
     },
     "output_type": "display_data"
    }
   ],
   "source": [
    "regressor = LinearRegression() \n",
    "LR = regressor.fit(os_data_X, os_data_y)\n",
    "score = LR.score(X_test, y_test)\n",
    "y_pred = LR.predict(X_test)\n",
    "plt.figure()\n",
    "plt.scatter(y_test,y_pred)\n",
    "plt.xlabel('difficulty scores')\n",
    "plt.ylabel('predicted difficulty scores')\n",
    "plt.savefig('prediction_scores')\n",
    "plt.show()\n"
   ]
  },
  {
   "cell_type": "code",
   "execution_count": 24,
   "metadata": {},
   "outputs": [
    {
     "name": "stdout",
     "output_type": "stream",
     "text": [
      "Accuracy of logistic regression classifier on training set: 0.26\n",
      "Accuracy of logistic regression classifier on test set: 0.27\n"
     ]
    }
   ],
   "source": [
    "y_pred = LR.predict(X_test)\n",
    "print('Accuracy of logistic regression classifier on training set: {:.2f}'.format(LR.score(X_train, y_train)))\n",
    "print('Accuracy of logistic regression classifier on test set: {:.2f}'.format(LR.score(X_test, y_test)))"
   ]
  },
  {
   "cell_type": "code",
   "execution_count": 25,
   "metadata": {},
   "outputs": [
    {
     "name": "stdout",
     "output_type": "stream",
     "text": [
      "                        Results: Ordinary least squares\n",
      "================================================================================\n",
      "Model:                  OLS              Adj. R-squared (uncentered): 0.879     \n",
      "Dependent Variable:     difficulty       AIC:                         16684.6089\n",
      "Date:                   2020-06-15 22:34 BIC:                         16729.9958\n",
      "No. Observations:       4836             Log-Likelihood:              -8335.3   \n",
      "Df Model:               7                F-statistic:                 4999.     \n",
      "Df Residuals:           4829             Prob (F-statistic):          0.00      \n",
      "R-squared (uncentered): 0.879            Scale:                       1.8418    \n",
      "------------------------------------------------------------------------------------\n",
      "                 Coef.      Std.Err.        t         P>|t|       [0.025      0.975]\n",
      "------------------------------------------------------------------------------------\n",
      "length          -0.0088       0.0016      -5.4875     0.0000     -0.0120     -0.0057\n",
      "ascent          -0.0000       0.0000      -0.8698     0.3844     -0.0001      0.0000\n",
      "descent         -0.0000       0.0000      -0.4833     0.6289     -0.0001      0.0000\n",
      "high             0.0008       0.0000      31.3477     0.0000      0.0008      0.0009\n",
      "low             -0.0007       0.0000     -24.2372     0.0000     -0.0008     -0.0007\n",
      "longitude        0.0002       0.0018       0.1224     0.9026     -0.0033      0.0038\n",
      "latitude         0.0619       0.0037      16.7223     0.0000      0.0546      0.0692\n",
      "--------------------------------------------------------------------------------\n",
      "Omnibus:                   194.491           Durbin-Watson:              1.121  \n",
      "Prob(Omnibus):             0.000             Jarque-Bera (JB):           137.058\n",
      "Skew:                      0.306             Prob(JB):                   0.000  \n",
      "Kurtosis:                  2.447             Condition No.:              1561   \n",
      "================================================================================\n",
      "* The condition number is large (2e+03). This might indicate             strong\n",
      "multicollinearity or other numerical problems.\n"
     ]
    }
   ],
   "source": [
    "ols_model = sm.OLS(os_data_y,os_data_X)\n",
    "result = ols_model.fit()\n",
    "print(result.summary2())\n"
   ]
  },
  {
   "cell_type": "code",
   "execution_count": null,
   "metadata": {},
   "outputs": [],
   "source": []
  }
 ],
 "metadata": {
  "kernelspec": {
   "display_name": "Python 3",
   "language": "python",
   "name": "python3"
  },
  "language_info": {
   "codemirror_mode": {
    "name": "ipython",
    "version": 3
   },
   "file_extension": ".py",
   "mimetype": "text/x-python",
   "name": "python",
   "nbconvert_exporter": "python",
   "pygments_lexer": "ipython3",
   "version": "3.7.6"
  }
 },
 "nbformat": 4,
 "nbformat_minor": 4
}

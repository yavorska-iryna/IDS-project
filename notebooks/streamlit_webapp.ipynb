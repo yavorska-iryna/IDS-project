{
 "cells": [
  {
   "cell_type": "code",
   "execution_count": 23,
   "metadata": {},
   "outputs": [],
   "source": [
    "import streamlit as st\n",
    "# To make things easier later, we're also importing numpy and pandas for\n",
    "# working with sample data.\n",
    "import numpy as np\n",
    "import pandas as pd\n",
    "import os"
   ]
  },
  {
   "cell_type": "code",
   "execution_count": 24,
   "metadata": {},
   "outputs": [
    {
     "data": {
      "text/plain": [
       "<streamlit.DeltaGenerator.DeltaGenerator at 0x107827250>"
      ]
     },
     "execution_count": 24,
     "metadata": {},
     "output_type": "execute_result"
    }
   ],
   "source": [
    "st.title('Rate my run')\n",
    "st.header('Upload your planned activity of see the difficulty rating')\n"
   ]
  },
  {
   "cell_type": "code",
   "execution_count": 25,
   "metadata": {},
   "outputs": [],
   "source": [
    "def file_selector(folder_path='.'):\n",
    "    filenames = os.listdir(folder_path)\n",
    "    selected_filename = st.selectbox('Select a file', filenames)\n",
    "    return os.path.join(folder_path, selected_filename)\n",
    "\n",
    "filename = file_selector()\n",
    "st.write('You selected `%s`' % filename)\n",
    "\n"
   ]
  },
  {
   "cell_type": "code",
   "execution_count": 26,
   "metadata": {},
   "outputs": [
    {
     "name": "stdout",
     "output_type": "stream",
     "text": [
      "gpx does not have tracks\n",
      "[rtept{None}:47.545772,-122.071686@41.0070323200054]\n",
      "[rtept{None}:47.545295,-122.071084@56.64325119991137]\n"
     ]
    }
   ],
   "source": [
    "# read proposed route\n",
    "import gpxpy\n",
    "\n",
    "filename = 'untitled.gpx'\n",
    "gpx_file = open(filename, 'r')\n",
    "gpx = gpxpy.parse(gpx_file)\n",
    "\n",
    "try: \n",
    "    data = gpx.tracks[0].segments[0].points\n",
    "except:\n",
    "    print('gpx does not have tracks')\n",
    "    \n",
    "try:\n",
    "    data = gpx.routes[0].points\n",
    "except:\n",
    "    print('gpx does not have routes')\n",
    "\n",
    "start = data[0]\n",
    "finish = data[-1]\n",
    "print(start)\n",
    "print(finish)\n",
    "df = pd.DataFrame(columns=['lon', 'lat', 'alt'])\n",
    "distance = [];\n",
    "elevation =[];\n",
    "for point in data:\n",
    "    df = df.append({'lon': point.longitude, 'lat' : point.latitude, 'alt' : point.elevation}, ignore_index=True)\n",
    "    "
   ]
  },
  {
   "cell_type": "code",
   "execution_count": 27,
   "metadata": {},
   "outputs": [
    {
     "name": "stderr",
     "output_type": "stream",
     "text": [
      "/Users/iryna/opt/anaconda3/lib/python3.7/site-packages/ipykernel_launcher.py:10: DeprecationWarning: Vincenty is deprecated and is going to be removed in geopy 2.0. Use `geopy.distance.geodesic` (or the default `geopy.distance.distance`) instead, which is more accurate and always converges.\n",
      "  # Remove the CWD from sys.path while we load stuff.\n"
     ]
    }
   ],
   "source": [
    "# get parameters from gpx\n",
    "import geopy.distance\n",
    "\n",
    "distance = [];\n",
    "elevation = [];\n",
    "for i in range(len(df)-1):\n",
    "    coords_1 = [df['lat'][i], df['lon'][i]]\n",
    "    coords_2 = [df['lat'][i+1], df['lon'][i+1]]\n",
    "    #print(coords_1, coords_2)\n",
    "    distance.append(geopy.distance.vincenty(coords_1, coords_2).miles)\n",
    "    elevation.append( df['alt'][i+1]-df['alt'][i])\n",
    "#print(distance)\n",
    "total_distance = np.sum(distance)\n",
    "\n",
    "elevation = np.array(elevation)\n",
    "gain = np.sum(elevation[np.where( elevation > 0 )])\n",
    "loss = np.sum(elevation[np.where( elevation < 0 )])\n",
    "gain_ft = gain*3.28084\n",
    "loss_ft = loss*3.28084\n",
    "\n",
    "longitude = df['lon'].mean()\n",
    "latitude = df['lat'].mean()\n",
    "high = df['alt'].max()\n",
    "low = df['alt'].min() \n"
   ]
  },
  {
   "cell_type": "code",
   "execution_count": 28,
   "metadata": {},
   "outputs": [],
   "source": [
    "X_test = {'length' : total_distance, 'ascent' : gain_ft, 'descent' : loss_ft, \n",
    "                        'high' : high, 'low' : low, 'longitude' : longitude, 'latitude' : latitude}"
   ]
  },
  {
   "cell_type": "code",
   "execution_count": 29,
   "metadata": {},
   "outputs": [],
   "source": [
    "#X_test = [total_distance, gain_ft, loss_ft, high, low, longitude, latitude]\n",
    "\n",
    "X = pd.DataFrame.from_dict(X_test, orient='index')\n"
   ]
  },
  {
   "cell_type": "code",
   "execution_count": 30,
   "metadata": {},
   "outputs": [],
   "source": [
    "#Load the trained ML model\n",
    "import pickle\n",
    "pkl_filename = \"pickle_model.pkl\"\n",
    "with open(pkl_filename, 'rb') as file:   \n",
    "    MLmodel = pickle.load(file)\n"
   ]
  },
  {
   "cell_type": "code",
   "execution_count": 31,
   "metadata": {},
   "outputs": [],
   "source": [
    "#Ingest user input into trained ML model\n",
    "y_predicted = MLmodel.predict(X.T)"
   ]
  },
  {
   "cell_type": "code",
   "execution_count": 32,
   "metadata": {},
   "outputs": [],
   "source": [
    "st.write('The difficulty of the route is {y}'.format(y = y_predicted))"
   ]
  },
  {
   "cell_type": "code",
   "execution_count": 33,
   "metadata": {},
   "outputs": [
    {
     "data": {
      "text/plain": [
       "<streamlit.DeltaGenerator.DeltaGenerator at 0x107827250>"
      ]
     },
     "execution_count": 33,
     "metadata": {},
     "output_type": "execute_result"
    }
   ],
   "source": [
    "st.map(df)"
   ]
  },
  {
   "cell_type": "code",
   "execution_count": null,
   "metadata": {},
   "outputs": [],
   "source": []
  }
 ],
 "metadata": {
  "kernelspec": {
   "display_name": "Python 3",
   "language": "python",
   "name": "python3"
  },
  "language_info": {
   "codemirror_mode": {
    "name": "ipython",
    "version": 3
   },
   "file_extension": ".py",
   "mimetype": "text/x-python",
   "name": "python",
   "nbconvert_exporter": "python",
   "pygments_lexer": "ipython3",
   "version": "3.7.6"
  }
 },
 "nbformat": 4,
 "nbformat_minor": 4
}

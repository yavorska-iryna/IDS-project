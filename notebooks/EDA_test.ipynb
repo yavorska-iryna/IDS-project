{
 "cells": [
  {
   "cell_type": "code",
   "execution_count": 10,
   "metadata": {},
   "outputs": [],
   "source": [
    "import pandas as pd\n",
    "import numpy as np\n",
    "import matplotlib.pyplot as plt  \n",
    "import seaborn as seabornInstance \n",
    "from sklearn.model_selection import train_test_split \n",
    "from sklearn.linear_model import LinearRegression\n",
    "from sklearn import metrics\n",
    "import os\n",
    "import glob\n",
    "%matplotlib inline\n",
    "\n",
    "#data_folder = \"/Users⁩/supertramp⁩/Documents⁩/GitHub⁩/IDS-project⁩/data/\";\n",
    "#data = pd.read_csv(data_folder + \"activities.csv\")"
   ]
  },
  {
   "cell_type": "code",
   "execution_count": 11,
   "metadata": {},
   "outputs": [
    {
     "name": "stdout",
     "output_type": "stream",
     "text": [
      "['activities4.csv', 'activities5.csv', 'activities2.csv', 'activities3.csv', 'activities1.csv']\n"
     ]
    }
   ],
   "source": [
    "# get all csv files \n",
    "all_files = glob.glob( '*.csv' )\n",
    "print(all_files)"
   ]
  },
  {
   "cell_type": "code",
   "execution_count": 12,
   "metadata": {},
   "outputs": [
    {
     "data": {
      "text/html": [
       "<div>\n",
       "<style scoped>\n",
       "    .dataframe tbody tr th:only-of-type {\n",
       "        vertical-align: middle;\n",
       "    }\n",
       "\n",
       "    .dataframe tbody tr th {\n",
       "        vertical-align: top;\n",
       "    }\n",
       "\n",
       "    .dataframe thead th {\n",
       "        text-align: right;\n",
       "    }\n",
       "</style>\n",
       "<table border=\"1\" class=\"dataframe\">\n",
       "  <thead>\n",
       "    <tr style=\"text-align: right;\">\n",
       "      <th></th>\n",
       "      <th>Activity ID</th>\n",
       "      <th>Elapsed Time</th>\n",
       "      <th>Distance</th>\n",
       "      <th>Relative Effort</th>\n",
       "      <th>Athlete Weight</th>\n",
       "      <th>Bike Weight</th>\n",
       "      <th>Elapsed Time.1</th>\n",
       "      <th>Moving Time</th>\n",
       "      <th>Distance.1</th>\n",
       "      <th>Max Speed</th>\n",
       "      <th>...</th>\n",
       "      <th>Moon Phase</th>\n",
       "      <th>Bike</th>\n",
       "      <th>Gear</th>\n",
       "      <th>Precipitation Probability</th>\n",
       "      <th>Precipitation Type</th>\n",
       "      <th>Cloud Cover</th>\n",
       "      <th>Weather Visibility</th>\n",
       "      <th>UV Index</th>\n",
       "      <th>Weather Ozone</th>\n",
       "      <th>id</th>\n",
       "    </tr>\n",
       "  </thead>\n",
       "  <tbody>\n",
       "    <tr>\n",
       "      <th>count</th>\n",
       "      <td>4.743000e+03</td>\n",
       "      <td>4743.000000</td>\n",
       "      <td>4743.000000</td>\n",
       "      <td>793.000000</td>\n",
       "      <td>3622.000000</td>\n",
       "      <td>0.0</td>\n",
       "      <td>4638.000000</td>\n",
       "      <td>4741.000000</td>\n",
       "      <td>4742.000000</td>\n",
       "      <td>4028.00000</td>\n",
       "      <td>...</td>\n",
       "      <td>1.00</td>\n",
       "      <td>0.0</td>\n",
       "      <td>3.850000e+02</td>\n",
       "      <td>1.00</td>\n",
       "      <td>1.0</td>\n",
       "      <td>1.00</td>\n",
       "      <td>1.0</td>\n",
       "      <td>1.0</td>\n",
       "      <td>1.000000</td>\n",
       "      <td>4743.000000</td>\n",
       "    </tr>\n",
       "    <tr>\n",
       "      <th>mean</th>\n",
       "      <td>1.455938e+09</td>\n",
       "      <td>6.580301</td>\n",
       "      <td>11.392905</td>\n",
       "      <td>69.615385</td>\n",
       "      <td>63.189972</td>\n",
       "      <td>NaN</td>\n",
       "      <td>6597.670332</td>\n",
       "      <td>5176.208606</td>\n",
       "      <td>11399.281663</td>\n",
       "      <td>5.68844</td>\n",
       "      <td>...</td>\n",
       "      <td>0.08</td>\n",
       "      <td>NaN</td>\n",
       "      <td>3.873804e+06</td>\n",
       "      <td>0.01</td>\n",
       "      <td>5.0</td>\n",
       "      <td>0.22</td>\n",
       "      <td>16093.0</td>\n",
       "      <td>5.0</td>\n",
       "      <td>340.299988</td>\n",
       "      <td>3.018975</td>\n",
       "    </tr>\n",
       "    <tr>\n",
       "      <th>std</th>\n",
       "      <td>1.013563e+09</td>\n",
       "      <td>10.766343</td>\n",
       "      <td>7.949239</td>\n",
       "      <td>82.960284</td>\n",
       "      <td>8.845964</td>\n",
       "      <td>NaN</td>\n",
       "      <td>10834.559107</td>\n",
       "      <td>8201.898124</td>\n",
       "      <td>7948.357097</td>\n",
       "      <td>2.85853</td>\n",
       "      <td>...</td>\n",
       "      <td>NaN</td>\n",
       "      <td>NaN</td>\n",
       "      <td>7.876277e+05</td>\n",
       "      <td>NaN</td>\n",
       "      <td>NaN</td>\n",
       "      <td>NaN</td>\n",
       "      <td>NaN</td>\n",
       "      <td>NaN</td>\n",
       "      <td>NaN</td>\n",
       "      <td>1.355300</td>\n",
       "    </tr>\n",
       "    <tr>\n",
       "      <th>min</th>\n",
       "      <td>1.020407e+08</td>\n",
       "      <td>0.000000</td>\n",
       "      <td>0.000000</td>\n",
       "      <td>0.000000</td>\n",
       "      <td>52.162899</td>\n",
       "      <td>NaN</td>\n",
       "      <td>0.000000</td>\n",
       "      <td>0.000000</td>\n",
       "      <td>0.000000</td>\n",
       "      <td>0.00000</td>\n",
       "      <td>...</td>\n",
       "      <td>0.08</td>\n",
       "      <td>NaN</td>\n",
       "      <td>3.305343e+06</td>\n",
       "      <td>0.01</td>\n",
       "      <td>5.0</td>\n",
       "      <td>0.22</td>\n",
       "      <td>16093.0</td>\n",
       "      <td>5.0</td>\n",
       "      <td>340.299988</td>\n",
       "      <td>1.000000</td>\n",
       "    </tr>\n",
       "    <tr>\n",
       "      <th>25%</th>\n",
       "      <td>5.065851e+08</td>\n",
       "      <td>2.546000</td>\n",
       "      <td>6.700000</td>\n",
       "      <td>19.000000</td>\n",
       "      <td>52.163101</td>\n",
       "      <td>NaN</td>\n",
       "      <td>2545.000000</td>\n",
       "      <td>2315.000000</td>\n",
       "      <td>6701.250000</td>\n",
       "      <td>4.10000</td>\n",
       "      <td>...</td>\n",
       "      <td>0.08</td>\n",
       "      <td>NaN</td>\n",
       "      <td>3.305343e+06</td>\n",
       "      <td>0.01</td>\n",
       "      <td>5.0</td>\n",
       "      <td>0.22</td>\n",
       "      <td>16093.0</td>\n",
       "      <td>5.0</td>\n",
       "      <td>340.299988</td>\n",
       "      <td>2.000000</td>\n",
       "    </tr>\n",
       "    <tr>\n",
       "      <th>50%</th>\n",
       "      <td>1.315308e+09</td>\n",
       "      <td>3.895000</td>\n",
       "      <td>9.660000</td>\n",
       "      <td>43.000000</td>\n",
       "      <td>65.770599</td>\n",
       "      <td>NaN</td>\n",
       "      <td>3904.000000</td>\n",
       "      <td>3445.000000</td>\n",
       "      <td>9667.750000</td>\n",
       "      <td>5.00000</td>\n",
       "      <td>...</td>\n",
       "      <td>0.08</td>\n",
       "      <td>NaN</td>\n",
       "      <td>3.343742e+06</td>\n",
       "      <td>0.01</td>\n",
       "      <td>5.0</td>\n",
       "      <td>0.22</td>\n",
       "      <td>16093.0</td>\n",
       "      <td>5.0</td>\n",
       "      <td>340.299988</td>\n",
       "      <td>3.000000</td>\n",
       "    </tr>\n",
       "    <tr>\n",
       "      <th>75%</th>\n",
       "      <td>2.258636e+09</td>\n",
       "      <td>6.097500</td>\n",
       "      <td>13.840000</td>\n",
       "      <td>81.000000</td>\n",
       "      <td>65.770897</td>\n",
       "      <td>NaN</td>\n",
       "      <td>6099.000000</td>\n",
       "      <td>5175.000000</td>\n",
       "      <td>13843.500000</td>\n",
       "      <td>6.20000</td>\n",
       "      <td>...</td>\n",
       "      <td>0.08</td>\n",
       "      <td>NaN</td>\n",
       "      <td>4.034677e+06</td>\n",
       "      <td>0.01</td>\n",
       "      <td>5.0</td>\n",
       "      <td>0.22</td>\n",
       "      <td>16093.0</td>\n",
       "      <td>5.0</td>\n",
       "      <td>340.299988</td>\n",
       "      <td>4.000000</td>\n",
       "    </tr>\n",
       "    <tr>\n",
       "      <th>max</th>\n",
       "      <td>3.539061e+09</td>\n",
       "      <td>210.820000</td>\n",
       "      <td>94.910000</td>\n",
       "      <td>641.000000</td>\n",
       "      <td>79.378700</td>\n",
       "      <td>NaN</td>\n",
       "      <td>210820.000000</td>\n",
       "      <td>187200.000000</td>\n",
       "      <td>94912.000000</td>\n",
       "      <td>30.50000</td>\n",
       "      <td>...</td>\n",
       "      <td>0.08</td>\n",
       "      <td>NaN</td>\n",
       "      <td>5.813859e+06</td>\n",
       "      <td>0.01</td>\n",
       "      <td>5.0</td>\n",
       "      <td>0.22</td>\n",
       "      <td>16093.0</td>\n",
       "      <td>5.0</td>\n",
       "      <td>340.299988</td>\n",
       "      <td>5.000000</td>\n",
       "    </tr>\n",
       "  </tbody>\n",
       "</table>\n",
       "<p>8 rows × 66 columns</p>\n",
       "</div>"
      ],
      "text/plain": [
       "        Activity ID  Elapsed Time     Distance  Relative Effort  \\\n",
       "count  4.743000e+03   4743.000000  4743.000000       793.000000   \n",
       "mean   1.455938e+09      6.580301    11.392905        69.615385   \n",
       "std    1.013563e+09     10.766343     7.949239        82.960284   \n",
       "min    1.020407e+08      0.000000     0.000000         0.000000   \n",
       "25%    5.065851e+08      2.546000     6.700000        19.000000   \n",
       "50%    1.315308e+09      3.895000     9.660000        43.000000   \n",
       "75%    2.258636e+09      6.097500    13.840000        81.000000   \n",
       "max    3.539061e+09    210.820000    94.910000       641.000000   \n",
       "\n",
       "       Athlete Weight  Bike Weight  Elapsed Time.1    Moving Time  \\\n",
       "count     3622.000000          0.0     4638.000000    4741.000000   \n",
       "mean        63.189972          NaN     6597.670332    5176.208606   \n",
       "std          8.845964          NaN    10834.559107    8201.898124   \n",
       "min         52.162899          NaN        0.000000       0.000000   \n",
       "25%         52.163101          NaN     2545.000000    2315.000000   \n",
       "50%         65.770599          NaN     3904.000000    3445.000000   \n",
       "75%         65.770897          NaN     6099.000000    5175.000000   \n",
       "max         79.378700          NaN   210820.000000  187200.000000   \n",
       "\n",
       "         Distance.1   Max Speed  ...  Moon Phase  Bike          Gear  \\\n",
       "count   4742.000000  4028.00000  ...        1.00   0.0  3.850000e+02   \n",
       "mean   11399.281663     5.68844  ...        0.08   NaN  3.873804e+06   \n",
       "std     7948.357097     2.85853  ...         NaN   NaN  7.876277e+05   \n",
       "min        0.000000     0.00000  ...        0.08   NaN  3.305343e+06   \n",
       "25%     6701.250000     4.10000  ...        0.08   NaN  3.305343e+06   \n",
       "50%     9667.750000     5.00000  ...        0.08   NaN  3.343742e+06   \n",
       "75%    13843.500000     6.20000  ...        0.08   NaN  4.034677e+06   \n",
       "max    94912.000000    30.50000  ...        0.08   NaN  5.813859e+06   \n",
       "\n",
       "       Precipitation Probability  Precipitation Type  Cloud Cover  \\\n",
       "count                       1.00                 1.0         1.00   \n",
       "mean                        0.01                 5.0         0.22   \n",
       "std                          NaN                 NaN          NaN   \n",
       "min                         0.01                 5.0         0.22   \n",
       "25%                         0.01                 5.0         0.22   \n",
       "50%                         0.01                 5.0         0.22   \n",
       "75%                         0.01                 5.0         0.22   \n",
       "max                         0.01                 5.0         0.22   \n",
       "\n",
       "       Weather Visibility  UV Index  Weather Ozone           id  \n",
       "count                 1.0       1.0       1.000000  4743.000000  \n",
       "mean              16093.0       5.0     340.299988     3.018975  \n",
       "std                   NaN       NaN            NaN     1.355300  \n",
       "min               16093.0       5.0     340.299988     1.000000  \n",
       "25%               16093.0       5.0     340.299988     2.000000  \n",
       "50%               16093.0       5.0     340.299988     3.000000  \n",
       "75%               16093.0       5.0     340.299988     4.000000  \n",
       "max               16093.0       5.0     340.299988     5.000000  \n",
       "\n",
       "[8 rows x 66 columns]"
      ]
     },
     "execution_count": 12,
     "metadata": {},
     "output_type": "execute_result"
    }
   ],
   "source": [
    "# merge all csv files and add 'id' variable to identify all ids\n",
    "ds = []\n",
    "i = 0\n",
    "for filename in all_files:\n",
    "    i = i + 1\n",
    "    dataset = pd.read_csv(filename, encoding= 'unicode_escape')\n",
    "    dataset['id'] = i\n",
    "    ds.append(dataset)\n",
    "datasets = pd.concat(ds, axis=0, ignore_index=True)\n",
    "datasets = datasets[datasets['Activity Type'].str.match('Run')]\n",
    "datasets['Elapsed Time'] = datasets['Elapsed Time'].div(1000) # convert to minutes\n",
    "datasets.describe()"
   ]
  },
  {
   "cell_type": "code",
   "execution_count": 28,
   "metadata": {},
   "outputs": [
    {
     "data": {
      "text/plain": [
       "<matplotlib.axes._subplots.AxesSubplot at 0x1a235ba2d0>"
      ]
     },
     "execution_count": 28,
     "metadata": {},
     "output_type": "execute_result"
    },
    {
     "data": {
      "image/png": "[encoded data removed]",
      "text/plain": [
       "<Figure size 360x360 with 1 Axes>"
      ]
     },
     "metadata": {
      "needs_background": "light"
     },
     "output_type": "display_data"
    }
   ],
   "source": [
    "plt.figure(figsize=(5,5))\n",
    "plt.tight_layout()\n",
    "seabornInstance.distplot(datasets['Distance'])\n"
   ]
  },
  {
   "cell_type": "code",
   "execution_count": 30,
   "metadata": {},
   "outputs": [
    {
     "data": {
      "text/plain": [
       "<matplotlib.axes._subplots.AxesSubplot at 0x1a2388d890>"
      ]
     },
     "execution_count": 30,
     "metadata": {},
     "output_type": "execute_result"
    },
    {
     "data": {
      "image/png": "[encoded data removed]",
      "text/plain": [
       "<Figure size 360x360 with 1 Axes>"
      ]
     },
     "metadata": {
      "needs_background": "light"
     },
     "output_type": "display_data"
    }
   ],
   "source": [
    "plt.figure(figsize=(5,5))\n",
    "plt.tight_layout()\n",
    "seabornInstance.distplot(datasets['Elapsed Time'])\n"
   ]
  },
  {
   "cell_type": "code",
   "execution_count": 31,
   "metadata": {},
   "outputs": [
    {
     "data": {
      "image/png": "[encoded data removed]",
      "text/plain": [
       "<Figure size 432x288 with 1 Axes>"
      ]
     },
     "metadata": {
      "needs_background": "light"
     },
     "output_type": "display_data"
    }
   ],
   "source": [
    "colors = ['r','g','b','m', 'c', 'k']\n",
    "plt.figure()\n",
    "for i in datasets['id'].unique():\n",
    "    x = datasets[datasets.id == i+1]\n",
    "    plt.plot(x['Distance'], x['Elapsed Time'], 'o', color = colors[i])\n",
    "    \n",
    "plt.title('Distance vs Time')  \n",
    "plt.xlabel('Distance (miles)')  \n",
    "plt.ylabel('Time (minutes)')  \n",
    "plt.yscale('log')\n",
    "plt.xscale('log')\n",
    "plt.show()\n",
    "\n"
   ]
  },
  {
   "cell_type": "code",
   "execution_count": null,
   "metadata": {},
   "outputs": [],
   "source": []
  },
  {
   "cell_type": "code",
   "execution_count": null,
   "metadata": {},
   "outputs": [],
   "source": [
    "\n",
    "predictors = ['Distance', 'Max Speed', 'Elevation Gain',\n",
    "             'Max Grade', 'Average Grade', 'Relative Effort'];\n",
    "\n",
    "# extra predictors that van be used later are: \"Calories\", 'Average Temperature',  'Elevation Loss', 'Relative Effort', 'Relative Effort'"
   ]
  },
  {
   "cell_type": "markdown",
   "metadata": {},
   "source": [
    "get rid of NaN values\n"
   ]
  },
  {
   "cell_type": "code",
   "execution_count": null,
   "metadata": {},
   "outputs": [],
   "source": [
    "\n",
    "from sklearn.impute import SimpleImputer\n",
    "\n",
    "variables_to_use = ['Distance', 'Max Speed', 'Elevation Gain',\n",
    "             'Max Grade', 'Average Grade','Elapsed Time', 'Relative Effort']\n",
    "dataset_final = dataset[variables_to_use]\n",
    "\n",
    "\n",
    "dataset_final.apply(lambda x: x.fillna(x.mean()),axis=0)\n",
    "dataset_final = dataset_final.reset_index()\n",
    "#dataset_final.mean()"
   ]
  },
  {
   "cell_type": "code",
   "execution_count": null,
   "metadata": {},
   "outputs": [],
   "source": [
    "X = dataset_final[predictors]\n",
    "y = dataset_final['Elapsed Time']\n",
    "X = X.fillna(method = 'pad')\n",
    "#X['Relative Effort'].isnull().values.any() \n",
    "X = X.fillna(0)\n",
    "X.isnull().any()"
   ]
  },
  {
   "cell_type": "code",
   "execution_count": null,
   "metadata": {},
   "outputs": [],
   "source": [
    "\n",
    "X_train, X_test, y_train, y_test = train_test_split(X, y, test_size=0.3, random_state=0)\n"
   ]
  },
  {
   "cell_type": "code",
   "execution_count": null,
   "metadata": {},
   "outputs": [],
   "source": [
    "regressor = LinearRegression()  \n",
    "LR = regressor.fit(X_train, y_train) #training the algorithm"
   ]
  },
  {
   "cell_type": "code",
   "execution_count": null,
   "metadata": {},
   "outputs": [],
   "source": [
    "LR.score(X_test, y_test)"
   ]
  },
  {
   "cell_type": "code",
   "execution_count": null,
   "metadata": {},
   "outputs": [],
   "source": [
    "y_pred = LR.predict(X_test)\n",
    "plt.figure()\n",
    "plt.scatter(y_test, y_pred, color = 'gray')\n",
    "plt.xlabel('test elapsed time')\n",
    "plt.ylabel('pred elapsed time')\n",
    "plt.show()"
   ]
  },
  {
   "cell_type": "code",
   "execution_count": null,
   "metadata": {},
   "outputs": [],
   "source": []
  }
 ],
 "metadata": {
  "kernelspec": {
   "display_name": "Python 3",
   "language": "python",
   "name": "python3"
  },
  "language_info": {
   "codemirror_mode": {
    "name": "ipython",
    "version": 3
   },
   "file_extension": ".py",
   "mimetype": "text/x-python",
   "name": "python",
   "nbconvert_exporter": "python",
   "pygments_lexer": "ipython3",
   "version": "3.7.6"
  }
 },
 "nbformat": 4,
 "nbformat_minor": 4
}

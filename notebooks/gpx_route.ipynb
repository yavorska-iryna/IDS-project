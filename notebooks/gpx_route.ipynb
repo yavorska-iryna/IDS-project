{
 "cells": [
  {
   "cell_type": "code",
   "execution_count": 1,
   "metadata": {},
   "outputs": [],
   "source": [
    "import gpxpy\n",
    "import matplotlib.pyplot as plt\n",
    "import datetime\n",
    "from geopy import distance\n",
    "from math import sqrt, floor\n",
    "import numpy as np\n",
    "import pandas as pd\n",
    "import chart_studio.plotly as py\n",
    "import plotly.graph_objs as go\n",
    "import haversine\n"
   ]
  },
  {
   "cell_type": "code",
   "execution_count": 2,
   "metadata": {},
   "outputs": [
    {
     "name": "stdout",
     "output_type": "stream",
     "text": [
      "GPX(tracks=[GPXTrack(name='Lake Valhalla', segments=[GPXTrackSegment(points=[...])])])\n"
     ]
    }
   ],
   "source": [
    "gpx_file = open('lake-valhalla.gpx', 'r')\n",
    "gpx = gpxpy.parse(gpx_file)\n",
    "print(gpx)"
   ]
  },
  {
   "cell_type": "markdown",
   "metadata": {},
   "source": [
    "# Lets examine the .gpx file"
   ]
  },
  {
   "cell_type": "code",
   "execution_count": null,
   "metadata": {},
   "outputs": [],
   "source": [
    "# this is for made routes\n",
    "#print(len(gpx.routes))\n",
    "#print(len(gpx.routes[0].points))\n",
    "#print(gpx.routes[0].points[:5])\n",
    "# create pandas dataframe\n",
    "#df_route = pd.DataFrame(columns=['lon', 'lat', 'alt'])\n",
    "#for point in gpx.routes[0].points:\n",
    "#    df_route = df_route.append({'lon': point.longitude, 'lat' : point.latitude, 'alt' : point.elevation}, ignore_index=True)\n",
    "#df_route.describe()"
   ]
  },
  {
   "cell_type": "code",
   "execution_count": 6,
   "metadata": {},
   "outputs": [
    {
     "name": "stdout",
     "output_type": "stream",
     "text": [
      "1\n",
      "1\n",
      "314\n",
      "[trkpt:47.802316,-121.07727@1216.74@2018-10-23 11:25:23-06:00]\n",
      "[trkpt:47.802316,-121.07727@1216.8@2018-10-23 16:38:23-06:00]\n"
     ]
    },
    {
     "data": {
      "text/html": [
       "<div>\n",
       "<style scoped>\n",
       "    .dataframe tbody tr th:only-of-type {\n",
       "        vertical-align: middle;\n",
       "    }\n",
       "\n",
       "    .dataframe tbody tr th {\n",
       "        vertical-align: top;\n",
       "    }\n",
       "\n",
       "    .dataframe thead th {\n",
       "        text-align: right;\n",
       "    }\n",
       "</style>\n",
       "<table border=\"1\" class=\"dataframe\">\n",
       "  <thead>\n",
       "    <tr style=\"text-align: right;\">\n",
       "      <th></th>\n",
       "      <th>lon</th>\n",
       "      <th>lat</th>\n",
       "      <th>alt</th>\n",
       "    </tr>\n",
       "  </thead>\n",
       "  <tbody>\n",
       "    <tr>\n",
       "      <th>count</th>\n",
       "      <td>314.000000</td>\n",
       "      <td>314.000000</td>\n",
       "      <td>314.000000</td>\n",
       "    </tr>\n",
       "    <tr>\n",
       "      <th>mean</th>\n",
       "      <td>-121.088626</td>\n",
       "      <td>47.799652</td>\n",
       "      <td>1415.326433</td>\n",
       "    </tr>\n",
       "    <tr>\n",
       "      <th>std</th>\n",
       "      <td>0.008121</td>\n",
       "      <td>0.004738</td>\n",
       "      <td>99.933999</td>\n",
       "    </tr>\n",
       "    <tr>\n",
       "      <th>min</th>\n",
       "      <td>-121.104048</td>\n",
       "      <td>47.791478</td>\n",
       "      <td>1216.740000</td>\n",
       "    </tr>\n",
       "    <tr>\n",
       "      <th>25%</th>\n",
       "      <td>-121.096170</td>\n",
       "      <td>47.795177</td>\n",
       "      <td>1348.120000</td>\n",
       "    </tr>\n",
       "    <tr>\n",
       "      <th>50%</th>\n",
       "      <td>-121.087043</td>\n",
       "      <td>47.801616</td>\n",
       "      <td>1432.810000</td>\n",
       "    </tr>\n",
       "    <tr>\n",
       "      <th>75%</th>\n",
       "      <td>-121.080773</td>\n",
       "      <td>47.803348</td>\n",
       "      <td>1495.572500</td>\n",
       "    </tr>\n",
       "    <tr>\n",
       "      <th>max</th>\n",
       "      <td>-121.077270</td>\n",
       "      <td>47.806956</td>\n",
       "      <td>1550.120000</td>\n",
       "    </tr>\n",
       "  </tbody>\n",
       "</table>\n",
       "</div>"
      ],
      "text/plain": [
       "              lon         lat          alt\n",
       "count  314.000000  314.000000   314.000000\n",
       "mean  -121.088626   47.799652  1415.326433\n",
       "std      0.008121    0.004738    99.933999\n",
       "min   -121.104048   47.791478  1216.740000\n",
       "25%   -121.096170   47.795177  1348.120000\n",
       "50%   -121.087043   47.801616  1432.810000\n",
       "75%   -121.080773   47.803348  1495.572500\n",
       "max   -121.077270   47.806956  1550.120000"
      ]
     },
     "execution_count": 6,
     "metadata": {},
     "output_type": "execute_result"
    }
   ],
   "source": [
    "\n",
    "\n",
    "# this is for recorded tracks\n",
    "\n",
    "print(len(gpx.tracks))\n",
    "print(len(gpx.tracks[0].segments))\n",
    "print(len(gpx.tracks[0].segments[0].points))\n",
    "\n",
    "data = gpx.tracks[0].segments[0].points\n",
    "start = data[0]\n",
    "finish = data[-1]\n",
    "print(start)\n",
    "print(finish)\n",
    "df = pd.DataFrame(columns=['lon', 'lat', 'alt', 'time'])\n",
    "for point in data:\n",
    "    df = df.append({'lon': point.longitude, 'lat' : point.latitude, 'alt' : point.elevation, 'time' : point.time}, ignore_index=True)\n",
    "df.describe()"
   ]
  },
  {
   "cell_type": "code",
   "execution_count": 4,
   "metadata": {},
   "outputs": [
    {
     "data": {
      "text/html": [
       "<div>\n",
       "<style scoped>\n",
       "    .dataframe tbody tr th:only-of-type {\n",
       "        vertical-align: middle;\n",
       "    }\n",
       "\n",
       "    .dataframe tbody tr th {\n",
       "        vertical-align: top;\n",
       "    }\n",
       "\n",
       "    .dataframe thead th {\n",
       "        text-align: right;\n",
       "    }\n",
       "</style>\n",
       "<table border=\"1\" class=\"dataframe\">\n",
       "  <thead>\n",
       "    <tr style=\"text-align: right;\">\n",
       "      <th></th>\n",
       "      <th>lon</th>\n",
       "      <th>lat</th>\n",
       "      <th>alt</th>\n",
       "    </tr>\n",
       "  </thead>\n",
       "  <tbody>\n",
       "    <tr>\n",
       "      <th>count</th>\n",
       "      <td>844.000000</td>\n",
       "      <td>844.000000</td>\n",
       "      <td>844.000000</td>\n",
       "    </tr>\n",
       "    <tr>\n",
       "      <th>mean</th>\n",
       "      <td>-122.101259</td>\n",
       "      <td>47.534674</td>\n",
       "      <td>328.150314</td>\n",
       "    </tr>\n",
       "    <tr>\n",
       "      <th>std</th>\n",
       "      <td>0.015821</td>\n",
       "      <td>0.006120</td>\n",
       "      <td>90.491421</td>\n",
       "    </tr>\n",
       "    <tr>\n",
       "      <th>min</th>\n",
       "      <td>-122.125901</td>\n",
       "      <td>47.523548</td>\n",
       "      <td>41.007032</td>\n",
       "    </tr>\n",
       "    <tr>\n",
       "      <th>25%</th>\n",
       "      <td>-122.114157</td>\n",
       "      <td>47.530322</td>\n",
       "      <td>266.219143</td>\n",
       "    </tr>\n",
       "    <tr>\n",
       "      <th>50%</th>\n",
       "      <td>-122.103486</td>\n",
       "      <td>47.535362</td>\n",
       "      <td>345.642000</td>\n",
       "    </tr>\n",
       "    <tr>\n",
       "      <th>75%</th>\n",
       "      <td>-122.088050</td>\n",
       "      <td>47.539571</td>\n",
       "      <td>394.109800</td>\n",
       "    </tr>\n",
       "    <tr>\n",
       "      <th>max</th>\n",
       "      <td>-122.070260</td>\n",
       "      <td>47.546081</td>\n",
       "      <td>461.986400</td>\n",
       "    </tr>\n",
       "  </tbody>\n",
       "</table>\n",
       "</div>"
      ],
      "text/plain": [
       "              lon         lat         alt\n",
       "count  844.000000  844.000000  844.000000\n",
       "mean  -122.101259   47.534674  328.150314\n",
       "std      0.015821    0.006120   90.491421\n",
       "min   -122.125901   47.523548   41.007032\n",
       "25%   -122.114157   47.530322  266.219143\n",
       "50%   -122.103486   47.535362  345.642000\n",
       "75%   -122.088050   47.539571  394.109800\n",
       "max   -122.070260   47.546081  461.986400"
      ]
     },
     "execution_count": 4,
     "metadata": {},
     "output_type": "execute_result"
    }
   ],
   "source": []
  },
  {
   "cell_type": "markdown",
   "metadata": {},
   "source": [
    "# now lets try to get discriptions of those points from open street map"
   ]
  },
  {
   "cell_type": "code",
   "execution_count": 45,
   "metadata": {},
   "outputs": [
    {
     "name": "stdout",
     "output_type": "stream",
     "text": [
      "0\n",
      "50\n",
      "100\n",
      "150\n",
      "200\n",
      "250\n",
      "300\n"
     ]
    }
   ],
   "source": [
    "\n",
    "import requests\n",
    "import json\n",
    "import overpy\n",
    "import overpass\n",
    "\n",
    "df_osm = pd.DataFrame()\n",
    "for i in range(0,len(df.lon), 50):\n",
    "    print(i)\n",
    "    r =requests.get('https://nominatim.openstreetmap.org/reverse?format=jsonv2&lat={lat}&lon={lon}&zoom={zoom}&adressdetails=1'.format(lat = df.lat[i],\n",
    "                                                                        lon = df.lon[i],\n",
    "                                                                        zoom = 18))\n",
    "    r_json = r.json()\n",
    "    x = pd.DataFrame([r_json])\n",
    "    df_osm = pd.concat([df_osm,x], axis=0)"
   ]
  },
  {
   "cell_type": "code",
   "execution_count": 62,
   "metadata": {},
   "outputs": [],
   "source": []
  },
  {
   "cell_type": "code",
   "execution_count": null,
   "metadata": {},
   "outputs": [],
   "source": []
  },
  {
   "cell_type": "code",
   "execution_count": null,
   "metadata": {},
   "outputs": [],
   "source": []
  },
  {
   "cell_type": "code",
   "execution_count": null,
   "metadata": {},
   "outputs": [],
   "source": [
    "df = pd.DataFrame()\n",
    "for j in range(len(r)):\n",
    "    x = pd.DataFrame(r[j])\n",
    "    df = pd.concat([df,x], axis=0)"
   ]
  },
  {
   "cell_type": "code",
   "execution_count": 65,
   "metadata": {},
   "outputs": [],
   "source": [
    "from OSMPythonTools.nominatim import Nominatim\n",
    "from OSMPythonTools.overpass import Overpass, overpassQueryBuilder\n",
    "from OSMPythonTools.data import Data, dictRangeYears, ALL\n",
    "\n",
    "from collections import OrderedDict\n",
    "overpass = Overpass()\n",
    "nominatim = Nominatim()\n"
   ]
  },
  {
   "cell_type": "code",
   "execution_count": 66,
   "metadata": {},
   "outputs": [],
   "source": [
    "nominatim.query"
   ]
  },
  {
   "cell_type": "code",
   "execution_count": null,
   "metadata": {},
   "outputs": [],
   "source": []
  },
  {
   "cell_type": "code",
   "execution_count": null,
   "metadata": {},
   "outputs": [],
   "source": []
  }
 ],
 "metadata": {
  "kernelspec": {
   "display_name": "Python 3",
   "language": "python",
   "name": "python3"
  },
  "language_info": {
   "codemirror_mode": {
    "name": "ipython",
    "version": 3
   },
   "file_extension": ".py",
   "mimetype": "text/x-python",
   "name": "python",
   "nbconvert_exporter": "python",
   "pygments_lexer": "ipython3",
   "version": "3.7.6"
  }
 },
 "nbformat": 4,
 "nbformat_minor": 4
}

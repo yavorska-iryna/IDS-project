{
 "cells": [
  {
   "cell_type": "code",
   "execution_count": 2,
   "metadata": {},
   "outputs": [],
   "source": [
    "from sklearn.ensemble import RandomForestClassifier\n",
    "from sklearn.model_selection import train_test_split\n",
    "import pandas as pd\n",
    "import numpy as np\n",
    "import warnings\n",
    "import pickle\n",
    "warnings.filterwarnings(\"ignore\")"
   ]
  },
  {
   "cell_type": "markdown",
   "metadata": {},
   "source": [
    "# Load cleaned data"
   ]
  },
  {
   "cell_type": "code",
   "execution_count": 3,
   "metadata": {},
   "outputs": [],
   "source": [
    "data_folder = \"/Users/iryna/Documents/GitHub/IDS-project/data/\"\n",
    "\n",
    "df = pd.read_csv(data_folder + \"training_data.csv\")\n",
    "\n",
    "# clean and keep only the data we want\n",
    "data =[]\n",
    "data = df[['id','stars','starVotes','length','ascent','descent', 'high', 'low', \n",
    "          'longitude','latitude', 'difficulty']]"
   ]
  },
  {
   "cell_type": "code",
   "execution_count": 4,
   "metadata": {},
   "outputs": [
    {
     "data": {
      "text/html": [
       "<div>\n",
       "<style scoped>\n",
       "    .dataframe tbody tr th:only-of-type {\n",
       "        vertical-align: middle;\n",
       "    }\n",
       "\n",
       "    .dataframe tbody tr th {\n",
       "        vertical-align: top;\n",
       "    }\n",
       "\n",
       "    .dataframe thead th {\n",
       "        text-align: right;\n",
       "    }\n",
       "</style>\n",
       "<table border=\"1\" class=\"dataframe\">\n",
       "  <thead>\n",
       "    <tr style=\"text-align: right;\">\n",
       "      <th></th>\n",
       "      <th>id</th>\n",
       "      <th>stars</th>\n",
       "      <th>starVotes</th>\n",
       "      <th>length</th>\n",
       "      <th>ascent</th>\n",
       "      <th>descent</th>\n",
       "      <th>high</th>\n",
       "      <th>low</th>\n",
       "      <th>longitude</th>\n",
       "      <th>latitude</th>\n",
       "      <th>difficulty</th>\n",
       "    </tr>\n",
       "  </thead>\n",
       "  <tbody>\n",
       "    <tr>\n",
       "      <th>count</th>\n",
       "      <td>2.824000e+03</td>\n",
       "      <td>2824.000000</td>\n",
       "      <td>2824.000000</td>\n",
       "      <td>2824.000000</td>\n",
       "      <td>2824.000000</td>\n",
       "      <td>2824.000000</td>\n",
       "      <td>2824.000000</td>\n",
       "      <td>2824.000000</td>\n",
       "      <td>2824.000000</td>\n",
       "      <td>2824.000000</td>\n",
       "      <td>2824.000000</td>\n",
       "    </tr>\n",
       "    <tr>\n",
       "      <th>mean</th>\n",
       "      <td>7.038744e+06</td>\n",
       "      <td>4.185942</td>\n",
       "      <td>7.789660</td>\n",
       "      <td>8.164837</td>\n",
       "      <td>1137.209986</td>\n",
       "      <td>-1065.430241</td>\n",
       "      <td>3837.538244</td>\n",
       "      <td>3031.027266</td>\n",
       "      <td>-97.885732</td>\n",
       "      <td>42.528836</td>\n",
       "      <td>2.033640</td>\n",
       "    </tr>\n",
       "    <tr>\n",
       "      <th>std</th>\n",
       "      <td>2.702557e+04</td>\n",
       "      <td>1.146773</td>\n",
       "      <td>19.438806</td>\n",
       "      <td>18.645545</td>\n",
       "      <td>2345.459481</td>\n",
       "      <td>2355.071712</td>\n",
       "      <td>3439.945213</td>\n",
       "      <td>2757.346092</td>\n",
       "      <td>15.356823</td>\n",
       "      <td>4.249339</td>\n",
       "      <td>0.683753</td>\n",
       "    </tr>\n",
       "    <tr>\n",
       "      <th>min</th>\n",
       "      <td>7.000000e+06</td>\n",
       "      <td>0.000000</td>\n",
       "      <td>0.000000</td>\n",
       "      <td>0.000000</td>\n",
       "      <td>0.000000</td>\n",
       "      <td>-54394.000000</td>\n",
       "      <td>0.000000</td>\n",
       "      <td>-280.000000</td>\n",
       "      <td>-121.591800</td>\n",
       "      <td>34.783200</td>\n",
       "      <td>1.000000</td>\n",
       "    </tr>\n",
       "    <tr>\n",
       "      <th>25%</th>\n",
       "      <td>7.016145e+06</td>\n",
       "      <td>4.000000</td>\n",
       "      <td>1.000000</td>\n",
       "      <td>1.800000</td>\n",
       "      <td>111.000000</td>\n",
       "      <td>-1105.500000</td>\n",
       "      <td>978.250000</td>\n",
       "      <td>779.750000</td>\n",
       "      <td>-111.617300</td>\n",
       "      <td>39.059575</td>\n",
       "      <td>2.000000</td>\n",
       "    </tr>\n",
       "    <tr>\n",
       "      <th>50%</th>\n",
       "      <td>7.035008e+06</td>\n",
       "      <td>4.500000</td>\n",
       "      <td>2.000000</td>\n",
       "      <td>4.000000</td>\n",
       "      <td>412.500000</td>\n",
       "      <td>-335.000000</td>\n",
       "      <td>2497.500000</td>\n",
       "      <td>1804.500000</td>\n",
       "      <td>-98.509300</td>\n",
       "      <td>42.551450</td>\n",
       "      <td>2.000000</td>\n",
       "    </tr>\n",
       "    <tr>\n",
       "      <th>75%</th>\n",
       "      <td>7.054825e+06</td>\n",
       "      <td>5.000000</td>\n",
       "      <td>6.000000</td>\n",
       "      <td>8.000000</td>\n",
       "      <td>1311.500000</td>\n",
       "      <td>-90.000000</td>\n",
       "      <td>6348.500000</td>\n",
       "      <td>5046.750000</td>\n",
       "      <td>-84.294600</td>\n",
       "      <td>45.566800</td>\n",
       "      <td>3.000000</td>\n",
       "    </tr>\n",
       "    <tr>\n",
       "      <th>max</th>\n",
       "      <td>7.093274e+06</td>\n",
       "      <td>5.000000</td>\n",
       "      <td>278.000000</td>\n",
       "      <td>308.300000</td>\n",
       "      <td>58094.000000</td>\n",
       "      <td>0.000000</td>\n",
       "      <td>14433.000000</td>\n",
       "      <td>12745.000000</td>\n",
       "      <td>-68.909700</td>\n",
       "      <td>53.954400</td>\n",
       "      <td>3.000000</td>\n",
       "    </tr>\n",
       "  </tbody>\n",
       "</table>\n",
       "</div>"
      ],
      "text/plain": [
       "                 id        stars    starVotes       length        ascent  \\\n",
       "count  2.824000e+03  2824.000000  2824.000000  2824.000000   2824.000000   \n",
       "mean   7.038744e+06     4.185942     7.789660     8.164837   1137.209986   \n",
       "std    2.702557e+04     1.146773    19.438806    18.645545   2345.459481   \n",
       "min    7.000000e+06     0.000000     0.000000     0.000000      0.000000   \n",
       "25%    7.016145e+06     4.000000     1.000000     1.800000    111.000000   \n",
       "50%    7.035008e+06     4.500000     2.000000     4.000000    412.500000   \n",
       "75%    7.054825e+06     5.000000     6.000000     8.000000   1311.500000   \n",
       "max    7.093274e+06     5.000000   278.000000   308.300000  58094.000000   \n",
       "\n",
       "            descent          high           low    longitude     latitude  \\\n",
       "count   2824.000000   2824.000000   2824.000000  2824.000000  2824.000000   \n",
       "mean   -1065.430241   3837.538244   3031.027266   -97.885732    42.528836   \n",
       "std     2355.071712   3439.945213   2757.346092    15.356823     4.249339   \n",
       "min   -54394.000000      0.000000   -280.000000  -121.591800    34.783200   \n",
       "25%    -1105.500000    978.250000    779.750000  -111.617300    39.059575   \n",
       "50%     -335.000000   2497.500000   1804.500000   -98.509300    42.551450   \n",
       "75%      -90.000000   6348.500000   5046.750000   -84.294600    45.566800   \n",
       "max        0.000000  14433.000000  12745.000000   -68.909700    53.954400   \n",
       "\n",
       "        difficulty  \n",
       "count  2824.000000  \n",
       "mean      2.033640  \n",
       "std       0.683753  \n",
       "min       1.000000  \n",
       "25%       2.000000  \n",
       "50%       2.000000  \n",
       "75%       3.000000  \n",
       "max       3.000000  "
      ]
     },
     "execution_count": 4,
     "metadata": {},
     "output_type": "execute_result"
    }
   ],
   "source": [
    "mapping = {'green': 1, 'greenBlue': 1, 'blue': 2, 'blueBlack': 2, 'black': 3, 'dblack': 3}\n",
    "data.replace(to_replace = {'difficulty' : mapping}, inplace = True)\n",
    "data.describe()"
   ]
  },
  {
   "cell_type": "code",
   "execution_count": 10,
   "metadata": {},
   "outputs": [
    {
     "data": {
      "text/plain": [
       "2824"
      ]
     },
     "execution_count": 10,
     "metadata": {},
     "output_type": "execute_result"
    }
   ],
   "source": [
    "# select a subset of predictor variables\n",
    "\n",
    "data_final = data[['length','ascent','descent', 'high', 'low', \n",
    "          'longitude','latitude', 'difficulty']]\n",
    "\n",
    "X = data_final.loc[:, data_final.columns != 'difficulty']\n",
    "y = data_final.loc[:, data_final.columns == 'difficulty']\n",
    "\n",
    "\n",
    "len(data_final.longitude)"
   ]
  },
  {
   "cell_type": "code",
   "execution_count": 11,
   "metadata": {},
   "outputs": [
    {
     "data": {
      "text/plain": [
       "Index(['length', 'ascent', 'descent', 'high', 'low', 'longitude', 'latitude'], dtype='object')"
      ]
     },
     "execution_count": 11,
     "metadata": {},
     "output_type": "execute_result"
    }
   ],
   "source": [
    "X.columns"
   ]
  },
  {
   "cell_type": "markdown",
   "metadata": {},
   "source": [
    "# Find optimal parameters and train Random Forest"
   ]
  },
  {
   "cell_type": "code",
   "execution_count": 12,
   "metadata": {},
   "outputs": [],
   "source": [
    "# now, we need to split data into training and test sets\n",
    "X_train, X_test, y_train, y_test = train_test_split(X, y, test_size = 0.3, random_state = 0)"
   ]
  },
  {
   "cell_type": "code",
   "execution_count": 13,
   "metadata": {},
   "outputs": [],
   "source": [
    "from imblearn.over_sampling import SMOTE\n",
    "import statsmodels.api as sm\n",
    "\n",
    "columns = X_train.columns\n",
    "os = SMOTE(random_state = 0)\n",
    "os_data_X,os_data_y = os.fit_sample(X_train, y_train)\n",
    "os_data_X = pd.DataFrame(data = os_data_X,columns = columns )\n",
    "os_data_y = pd.DataFrame(data = os_data_y,columns = ['difficulty'])\n"
   ]
  },
  {
   "cell_type": "code",
   "execution_count": 14,
   "metadata": {},
   "outputs": [
    {
     "data": {
      "text/plain": [
       "RandomizedSearchCV(cv=2,\n",
       "                   estimator=RandomForestClassifier(class_weight='balanced'),\n",
       "                   n_jobs=-1,\n",
       "                   param_distributions={'max_depth': <scipy.stats._distn_infrastructure.rv_frozen object at 0x1a20f2ecd0>,\n",
       "                                        'max_features': <scipy.stats._distn_infrastructure.rv_frozen object at 0x1a20f2e910>,\n",
       "                                        'min_samples_split': <scipy.stats._distn_infrastructure.rv_frozen object at 0x1a20f2e890>,\n",
       "                                        'n_estimators': <scipy.stats._distn_infrastructure.rv_frozen object at 0x1a20f2e6d0>})"
      ]
     },
     "execution_count": 14,
     "metadata": {},
     "output_type": "execute_result"
    }
   ],
   "source": [
    "# tune parameters for Random Forest model\n",
    "from scipy.stats import uniform as sp_randFloat\n",
    "from scipy.stats import randint as sp_randInt\n",
    "from sklearn.model_selection import RandomizedSearchCV\n",
    "\n",
    "model = RandomForestClassifier(class_weight = 'balanced')\n",
    "parameters = {'n_estimators'    : sp_randInt(100, 500),\n",
    "                  'max_features'    : sp_randInt(1,5),\n",
    "                  'min_samples_split' : sp_randInt(5, 30),\n",
    "                  'max_depth'    : sp_randInt(4, 10)\n",
    "                 }\n",
    "\n",
    "randm = RandomizedSearchCV(estimator=model, param_distributions = parameters,\n",
    "                               cv = 2, n_iter = 10, n_jobs=-1)\n",
    "randm.fit(os_data_X, os_data_y)"
   ]
  },
  {
   "cell_type": "code",
   "execution_count": 15,
   "metadata": {},
   "outputs": [
    {
     "name": "stdout",
     "output_type": "stream",
     "text": [
      "\n",
      "========================================================\n",
      " Results from Random Search \n",
      "========================================================\n",
      "\n",
      " The best estimator across ALL searched params:\n",
      " RandomForestClassifier(class_weight='balanced', max_depth=9, max_features=3,\n",
      "                       min_samples_split=9, n_estimators=366)\n",
      "\n",
      " The best score across ALL searched params:\n",
      " 0.7198040726203283\n",
      "\n",
      " The best parameters across ALL searched params:\n",
      " {'max_depth': 9, 'max_features': 3, 'min_samples_split': 9, 'n_estimators': 366}\n",
      "\n",
      " ========================================================\n"
     ]
    }
   ],
   "source": [
    "print(\"\\n========================================================\")\n",
    "print(\" Results from Random Search \" )\n",
    "print(\"========================================================\")\n",
    "print(\"\\n The best estimator across ALL searched params:\\n\",\n",
    "          randm.best_estimator_)\n",
    "print(\"\\n The best score across ALL searched params:\\n\",\n",
    "          randm.best_score_)\n",
    "print(\"\\n The best parameters across ALL searched params:\\n\",\n",
    "          randm.best_params_)\n",
    "print(\"\\n ========================================================\")"
   ]
  },
  {
   "cell_type": "code",
   "execution_count": 16,
   "metadata": {},
   "outputs": [],
   "source": [
    "clf = RandomForestClassifier(class_weight='balanced',max_depth=9, max_features=3,\n",
    "                       min_samples_split=9, n_estimators=450)\n",
    "RF_model = clf.fit(X_train, y_train)\n"
   ]
  },
  {
   "cell_type": "markdown",
   "metadata": {},
   "source": [
    "# Cross-validating steps"
   ]
  },
  {
   "cell_type": "code",
   "execution_count": 17,
   "metadata": {},
   "outputs": [],
   "source": [
    "from sklearn.model_selection import cross_val_score\n",
    "from sklearn.metrics import classification_report, confusion_matrix"
   ]
  },
  {
   "cell_type": "code",
   "execution_count": 18,
   "metadata": {},
   "outputs": [
    {
     "name": "stdout",
     "output_type": "stream",
     "text": [
      " Test score is 0.6686\n"
     ]
    }
   ],
   "source": [
    "print(\" Test score is {x}\".format (x =  round(RF_model.score(X_test,y_test),4)))"
   ]
  },
  {
   "cell_type": "code",
   "execution_count": 19,
   "metadata": {},
   "outputs": [],
   "source": [
    "# get predicted values\n",
    "y_predict = RF_model.predict(X_test)"
   ]
  },
  {
   "cell_type": "code",
   "execution_count": 20,
   "metadata": {},
   "outputs": [
    {
     "data": {
      "image/png": "[encoded data removed]",
      "text/plain": [
       "<Figure size 432x288 with 1 Axes>"
      ]
     },
     "metadata": {
      "needs_background": "light"
     },
     "output_type": "display_data"
    }
   ],
   "source": [
    "# plot presicted vs expected\n",
    "import matplotlib.pyplot as plt\n",
    "\n",
    "plt.figure()\n",
    "plt.scatter(y_test, y_predict)\n",
    "plt.xlabel('difficulty scores')\n",
    "plt.ylabel('predicted difficulty scores')\n",
    "plt.savefig('prediction_scores_RF')\n",
    "plt.show()"
   ]
  },
  {
   "cell_type": "code",
   "execution_count": 21,
   "metadata": {},
   "outputs": [
    {
     "data": {
      "text/html": [
       "<div>\n",
       "<style scoped>\n",
       "    .dataframe tbody tr th:only-of-type {\n",
       "        vertical-align: middle;\n",
       "    }\n",
       "\n",
       "    .dataframe tbody tr th {\n",
       "        vertical-align: top;\n",
       "    }\n",
       "\n",
       "    .dataframe thead th {\n",
       "        text-align: right;\n",
       "    }\n",
       "</style>\n",
       "<table border=\"1\" class=\"dataframe\">\n",
       "  <thead>\n",
       "    <tr style=\"text-align: right;\">\n",
       "      <th></th>\n",
       "      <th>feature</th>\n",
       "      <th>importance</th>\n",
       "    </tr>\n",
       "  </thead>\n",
       "  <tbody>\n",
       "    <tr>\n",
       "      <th>1</th>\n",
       "      <td>ascent</td>\n",
       "      <td>0.323823</td>\n",
       "    </tr>\n",
       "    <tr>\n",
       "      <th>2</th>\n",
       "      <td>descent</td>\n",
       "      <td>0.242859</td>\n",
       "    </tr>\n",
       "    <tr>\n",
       "      <th>0</th>\n",
       "      <td>length</td>\n",
       "      <td>0.128050</td>\n",
       "    </tr>\n",
       "    <tr>\n",
       "      <th>3</th>\n",
       "      <td>high</td>\n",
       "      <td>0.103842</td>\n",
       "    </tr>\n",
       "    <tr>\n",
       "      <th>4</th>\n",
       "      <td>low</td>\n",
       "      <td>0.072723</td>\n",
       "    </tr>\n",
       "  </tbody>\n",
       "</table>\n",
       "</div>"
      ],
      "text/plain": [
       "   feature  importance\n",
       "1   ascent    0.323823\n",
       "2  descent    0.242859\n",
       "0   length    0.128050\n",
       "3     high    0.103842\n",
       "4      low    0.072723"
      ]
     },
     "execution_count": 21,
     "metadata": {},
     "output_type": "execute_result"
    }
   ],
   "source": [
    "# Extract feature importances\n",
    "fi = pd.DataFrame({'feature': list(X_train.columns),\n",
    "                   'importance': RF_model.feature_importances_}).\\\n",
    "                    sort_values('importance', ascending = False)\n",
    "\n",
    "# Display\n",
    "fi.head()"
   ]
  },
  {
   "cell_type": "code",
   "execution_count": 22,
   "metadata": {},
   "outputs": [],
   "source": [
    "RF_cv_score = cross_val_score(RF_model, X, y, cv=10)"
   ]
  },
  {
   "cell_type": "code",
   "execution_count": 24,
   "metadata": {},
   "outputs": [
    {
     "name": "stdout",
     "output_type": "stream",
     "text": [
      "=== Confusion Matrix ===\n",
      "[[155  50   3]\n",
      " [ 55 277  90]\n",
      " [ 14  69 135]]\n",
      "\n",
      "\n",
      "=== Classification Report ===\n",
      "              precision    recall  f1-score   support\n",
      "\n",
      "           1       0.69      0.75      0.72       208\n",
      "           2       0.70      0.66      0.68       422\n",
      "           3       0.59      0.62      0.61       218\n",
      "\n",
      "    accuracy                           0.67       848\n",
      "   macro avg       0.66      0.67      0.67       848\n",
      "weighted avg       0.67      0.67      0.67       848\n",
      "\n",
      "\n",
      "\n",
      "=== All AUC Scores ===\n",
      "[0.67844523 0.67844523 0.50530035 0.51236749 0.42198582 0.53191489\n",
      " 0.53191489 0.5177305  0.5248227  0.5212766 ]\n",
      "\n",
      "\n",
      "=== Mean AUC Score ===\n",
      "Mean AUC Score - Random Forest:  0.5424203693957848\n"
     ]
    }
   ],
   "source": [
    "print(\"=== Confusion Matrix ===\")\n",
    "print(confusion_matrix(y_test, y_predict))\n",
    "print('\\n')\n",
    "print(\"=== Classification Report ===\")\n",
    "print(classification_report(y_test, y_predict))\n",
    "print('\\n')\n",
    "print(\"=== All AUC Scores ===\")\n",
    "print(RF_cv_score)\n",
    "print('\\n')\n",
    "print(\"=== Mean AUC Score ===\")\n",
    "print(\"Mean AUC Score - Random Forest: \", RF_cv_score.mean())"
   ]
  },
  {
   "cell_type": "code",
   "execution_count": 25,
   "metadata": {},
   "outputs": [
    {
     "data": {
      "image/png": "[encoded data removed]",
      "text/plain": [
       "<Figure size 432x288 with 2 Axes>"
      ]
     },
     "metadata": {
      "needs_background": "light"
     },
     "output_type": "display_data"
    }
   ],
   "source": [
    "# plot and save confusion matrix\n",
    "from sklearn.metrics import plot_confusion_matrix\n",
    "class_names = [\"easy\", \"medium\", \"difficult\"]\n",
    "disp = plot_confusion_matrix(RF_model, X_test, y_test,\n",
    "                                 display_labels=class_names,\n",
    "                                 cmap=plt.cm.Blues)\n",
    "disp.ax_.set_title('Difficulty score prediction')\n",
    "plt.savefig('ConfusionMatrix')"
   ]
  },
  {
   "cell_type": "code",
   "execution_count": 32,
   "metadata": {},
   "outputs": [
    {
     "name": "stdout",
     "output_type": "stream",
     "text": [
      "3\n",
      "2824\n",
      "7\n"
     ]
    }
   ],
   "source": [
    "# plot a ROC curve for each class,, binarize y \n",
    "from sklearn.preprocessing import label_binarize\n",
    "from sklearn.metrics import roc_auc_score\n",
    "\n",
    "y = label_binarize(y, classes=[1, 2, 3])\n",
    "\n",
    "n_classes = y.shape[1]\n",
    "n_samples, n_features = X.shape\n",
    "\n",
    "print(n_classes)\n",
    "print(n_samples)\n",
    "print(n_features)\n"
   ]
  },
  {
   "cell_type": "code",
   "execution_count": 33,
   "metadata": {},
   "outputs": [],
   "source": [
    "# Learn to predict each class against the other and split data\n",
    "\n",
    "from sklearn.multiclass import OneVsRestClassifier\n",
    "\n",
    "X_train, X_test, y_train, y_test = train_test_split(X, y, test_size = 0.3, random_state = 0)\n",
    "classifier = OneVsRestClassifier(RandomForestClassifier(class_weight='balanced',max_depth=9, max_features=4,\n",
    "                       min_samples_split=7, n_estimators=481))\n",
    "y_score = classifier.fit(X_train, y_train).predict_proba(X_test)\n"
   ]
  },
  {
   "cell_type": "code",
   "execution_count": 34,
   "metadata": {},
   "outputs": [],
   "source": [
    "# Compute ROC curve and ROC area for each class\n",
    "from sklearn.metrics import roc_curve, auc\n",
    "fpr = dict()\n",
    "tpr = dict()\n",
    "roc_auc = dict()\n",
    "for i in range(n_classes):\n",
    "    fpr[i], tpr[i], _ = roc_curve(y_test[:, i], y_score[:, i])\n",
    "    roc_auc[i] = auc(fpr[i], tpr[i])"
   ]
  },
  {
   "cell_type": "code",
   "execution_count": 35,
   "metadata": {},
   "outputs": [
    {
     "data": {
      "image/png": "[encoded data removed]",
      "text/plain": [
       "<Figure size 432x288 with 1 Axes>"
      ]
     },
     "metadata": {
      "needs_background": "light"
     },
     "output_type": "display_data"
    }
   ],
   "source": [
    "lw = 2\n",
    "colors = ['lime', 'lightseagreen', 'royalblue', 'mediumblue', 'black', 'red']\n",
    "for i, color in zip(range(n_classes), colors):\n",
    "    plt.plot(fpr[i], tpr[i], color=color, lw=lw,\n",
    "             label='ROC difficulty {0} (area = {1:0.2f})'\n",
    "             ''.format(i+1, roc_auc[i]))\n",
    "\n",
    "plt.plot([0, 1], [0, 1], 'k--', lw=lw)\n",
    "plt.xlim([-0.05, 1.0])\n",
    "plt.ylim([0.0, 1.05])\n",
    "plt.xlabel('False Positive Rate')\n",
    "plt.ylabel('True Positive Rate')\n",
    "plt.title('Receiver operating characteristic for 3 levels of difficulty')\n",
    "plt.legend(loc=\"lower right\")\n",
    "plt.savefig('ROC curve')\n",
    "plt.show()"
   ]
  },
  {
   "cell_type": "markdown",
   "metadata": {},
   "source": [
    "# Save RF model parameters for later"
   ]
  },
  {
   "cell_type": "code",
   "execution_count": 36,
   "metadata": {},
   "outputs": [],
   "source": [
    "\n",
    "pkl_filename = \"pickle_model2.pkl\"\n",
    "with open(pkl_filename, 'wb') as file:   \n",
    "    pickle.dump(RF_model, file)"
   ]
  }
 ],
 "metadata": {
  "kernelspec": {
   "display_name": "Python 3",
   "language": "python",
   "name": "python3"
  },
  "language_info": {
   "codemirror_mode": {
    "name": "ipython",
    "version": 3
   },
   "file_extension": ".py",
   "mimetype": "text/x-python",
   "name": "python",
   "nbconvert_exporter": "python",
   "pygments_lexer": "ipython3",
   "version": "3.7.6"
  }
 },
 "nbformat": 4,
 "nbformat_minor": 4
}

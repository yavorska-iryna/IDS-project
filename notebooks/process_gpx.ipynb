{
 "cells": [
  {
   "cell_type": "code",
   "execution_count": 1,
   "metadata": {},
   "outputs": [],
   "source": [
    "import gpxpy\n",
    "import matplotlib.pyplot as plt\n",
    "import datetime\n",
    "from geopy import distance\n",
    "from math import sqrt, floor\n",
    "import numpy as np\n",
    "import pandas as pd\n",
    "import chart_studio.plotly as py\n",
    "import plotly.graph_objs as go\n",
    "import haversine\n"
   ]
  },
  {
   "cell_type": "code",
   "execution_count": 7,
   "metadata": {},
   "outputs": [],
   "source": [
    "gpx_file = open('1064852304.gpx', 'r')\n",
    "gpx = gpxpy.parse(gpx_file)\n"
   ]
  },
  {
   "cell_type": "code",
   "execution_count": 8,
   "metadata": {},
   "outputs": [
    {
     "name": "stdout",
     "output_type": "stream",
     "text": [
      "1\n",
      "1\n",
      "4664\n"
     ]
    }
   ],
   "source": [
    "print(len(gpx.tracks))\n",
    "print(len(gpx.tracks[0].segments))\n",
    "print(len(gpx.tracks[0].segments[0].points))\n"
   ]
  },
  {
   "cell_type": "code",
   "execution_count": 12,
   "metadata": {},
   "outputs": [
    {
     "name": "stdout",
     "output_type": "stream",
     "text": [
      "[trkpt:41.432708,-122.12504@2147.3@2017-07-01 22:36:03+00:00]\n",
      "[trkpt:41.432585,-122.124837@2145.8@2017-07-02 21:14:12+00:00]\n"
     ]
    },
    {
     "data": {
      "text/html": [
       "<div>\n",
       "<style scoped>\n",
       "    .dataframe tbody tr th:only-of-type {\n",
       "        vertical-align: middle;\n",
       "    }\n",
       "\n",
       "    .dataframe tbody tr th {\n",
       "        vertical-align: top;\n",
       "    }\n",
       "\n",
       "    .dataframe thead th {\n",
       "        text-align: right;\n",
       "    }\n",
       "</style>\n",
       "<table border=\"1\" class=\"dataframe\">\n",
       "  <thead>\n",
       "    <tr style=\"text-align: right;\">\n",
       "      <th></th>\n",
       "      <th>lon</th>\n",
       "      <th>lat</th>\n",
       "      <th>alt</th>\n",
       "    </tr>\n",
       "  </thead>\n",
       "  <tbody>\n",
       "    <tr>\n",
       "      <th>count</th>\n",
       "      <td>4664.000000</td>\n",
       "      <td>4664.000000</td>\n",
       "      <td>4664.000000</td>\n",
       "    </tr>\n",
       "    <tr>\n",
       "      <th>mean</th>\n",
       "      <td>-122.158638</td>\n",
       "      <td>41.421969</td>\n",
       "      <td>2891.453709</td>\n",
       "    </tr>\n",
       "    <tr>\n",
       "      <th>std</th>\n",
       "      <td>0.021935</td>\n",
       "      <td>0.008086</td>\n",
       "      <td>649.713609</td>\n",
       "    </tr>\n",
       "    <tr>\n",
       "      <th>min</th>\n",
       "      <td>-122.194923</td>\n",
       "      <td>41.408949</td>\n",
       "      <td>2124.200000</td>\n",
       "    </tr>\n",
       "    <tr>\n",
       "      <th>25%</th>\n",
       "      <td>-122.178888</td>\n",
       "      <td>41.414969</td>\n",
       "      <td>2316.600000</td>\n",
       "    </tr>\n",
       "    <tr>\n",
       "      <th>50%</th>\n",
       "      <td>-122.158418</td>\n",
       "      <td>41.421399</td>\n",
       "      <td>2677.900000</td>\n",
       "    </tr>\n",
       "    <tr>\n",
       "      <th>75%</th>\n",
       "      <td>-122.137343</td>\n",
       "      <td>41.428554</td>\n",
       "      <td>3397.050000</td>\n",
       "    </tr>\n",
       "    <tr>\n",
       "      <th>max</th>\n",
       "      <td>-122.124356</td>\n",
       "      <td>41.436608</td>\n",
       "      <td>4299.000000</td>\n",
       "    </tr>\n",
       "  </tbody>\n",
       "</table>\n",
       "</div>"
      ],
      "text/plain": [
       "               lon          lat          alt\n",
       "count  4664.000000  4664.000000  4664.000000\n",
       "mean   -122.158638    41.421969  2891.453709\n",
       "std       0.021935     0.008086   649.713609\n",
       "min    -122.194923    41.408949  2124.200000\n",
       "25%    -122.178888    41.414969  2316.600000\n",
       "50%    -122.158418    41.421399  2677.900000\n",
       "75%    -122.137343    41.428554  3397.050000\n",
       "max    -122.124356    41.436608  4299.000000"
      ]
     },
     "execution_count": 12,
     "metadata": {},
     "output_type": "execute_result"
    }
   ],
   "source": [
    "data = gpx.tracks[0].segments[0].points\n",
    "start = data[0]\n",
    "finish = data[-1]\n",
    "print(start)\n",
    "print(finish)\n",
    "df = pd.DataFrame(columns=['lon', 'lat', 'alt', 'time'])\n",
    "for point in data:\n",
    "    df = df.append({'lon': point.longitude, 'lat' : point.latitude, 'alt' : point.elevation, 'time' : point.time}, ignore_index=True)\n",
    "df.describe()"
   ]
  },
  {
   "cell_type": "code",
   "execution_count": 9,
   "metadata": {},
   "outputs": [],
   "source": [
    "dirs = '~/IDS-project/data/export_21762824/activities'\n",
    "gpx_files = glob.glob('{}/{}'.format(dirs, ))\n",
    "if not gpx_files:\n",
    "        exit('ERROR No GPX files in {}'.format(args.dir))\n",
    "\n",
    "    data = []\n",
    "\n",
    "    for gpx_file in gpx_files:\n",
    "        print('Reading {}'.format(gpx_file))\n",
    "\n",
    "        with open(gpx_file, 'r') as file:\n",
    "            for line in file:\n",
    "                if '<trkpt' in line:\n",
    "                    r = re.findall('[-]?[0-9]*[.]?[0-9]+', line)\n",
    "\n",
    "                    data.append([float(r[0]), float(r[1])])\n",
    "\n",
    "    print('Loaded {} trackpoints'.format(len(heatmap_data)))"
   ]
  },
  {
   "cell_type": "code",
   "execution_count": null,
   "metadata": {},
   "outputs": [],
   "source": []
  }
 ],
 "metadata": {
  "kernelspec": {
   "display_name": "Python 3",
   "language": "python",
   "name": "python3"
  },
  "language_info": {
   "codemirror_mode": {
    "name": "ipython",
    "version": 3
   },
   "file_extension": ".py",
   "mimetype": "text/x-python",
   "name": "python",
   "nbconvert_exporter": "python",
   "pygments_lexer": "ipython3",
   "version": "3.7.6"
  }
 },
 "nbformat": 4,
 "nbformat_minor": 4
}
